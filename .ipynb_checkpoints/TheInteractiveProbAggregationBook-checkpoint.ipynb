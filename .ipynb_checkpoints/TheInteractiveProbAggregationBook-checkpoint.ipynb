{
 "cells": [
  {
   "cell_type": "code",
   "execution_count": 1,
   "metadata": {
    "collapsed": false
   },
   "outputs": [
    {
     "data": {
      "text/html": [
       "<script>\n",
       "code_show=true; \n",
       "function code_toggle() {\n",
       " if (code_show){\n",
       " $('div.input').hide();\n",
       " } else {\n",
       " $('div.input').show();\n",
       " }\n",
       " code_show = !code_show\n",
       "} \n",
       "$( document ).ready(code_toggle);\n",
       "</script>\n",
       "The raw code for this IPython notebook is by default hidden for easier reading.\n",
       "To toggle on/off the raw code, click <a href=\"javascript:code_toggle()\">here</a>."
      ],
      "text/plain": [
       "<IPython.core.display.HTML object>"
      ]
     },
     "execution_count": 1,
     "metadata": {},
     "output_type": "execute_result"
    }
   ],
   "source": [
    "from IPython.display import HTML\n",
    "HTML('''<script>\n",
    "code_show=true; \n",
    "function code_toggle() {\n",
    " if (code_show){\n",
    " $('div.input').hide();\n",
    " } else {\n",
    " $('div.input').show();\n",
    " }\n",
    " code_show = !code_show\n",
    "} \n",
    "$( document ).ready(code_toggle);\n",
    "</script>\n",
    "The raw code for this IPython notebook is by default hidden for easier reading.\n",
    "To toggle on/off the raw code, click <a href=\"javascript:code_toggle()\">here</a>.''')"
   ]
  },
  {
   "cell_type": "code",
   "execution_count": 2,
   "metadata": {
    "collapsed": true
   },
   "outputs": [],
   "source": [
    "from numpy import inf\n",
    "from numpy import nan\n",
    "import math\n",
    "import itertools\n",
    "import ProbGraphGenerator as pg\n",
    "import numpy as np\n",
    "import pandas as pd\n",
    "import itertools\n",
    "import matplotlib.pyplot as plt"
   ]
  },
  {
   "cell_type": "code",
   "execution_count": 3,
   "metadata": {
    "collapsed": false
   },
   "outputs": [
    {
     "name": "stdout",
     "output_type": "stream",
     "text": [
      "[0, 1]\n",
      "[]\n",
      "[0, 1]\n",
      "[2]\n"
     ]
    }
   ],
   "source": [
    "from ipywidgets import *\n",
    "from IPython.display import display\n",
    "from ipywidgets import widgets\n",
    "\n",
    "textPos = widgets.Text(description='List of Positive Arguments', width=500)\n",
    "textNeg = widgets.Text(description='List of Negative Arguments', width=500)\n",
    "display(textPos)\n",
    "display(textNeg)\n",
    "\n",
    "# list of user provided args\n",
    "posArgs = []\n",
    "negArgs = []\n",
    "\n",
    "def handle_submit(sender):\n",
    "    if sender == textPos:\n",
    "        splitlist = (textPos.value).split(\",\")\n",
    "        args = [int(a) for a in splitlist]\n",
    "        posArgs.extend(args)\n",
    "    if sender == textNeg:\n",
    "        splitlist = (textNeg.value).split(\",\")\n",
    "        args = [int(a) for a in splitlist]\n",
    "        negArgs.extend(args)\n",
    "        \n",
    "    print(posArgs)\n",
    "    print(negArgs)\n",
    "\n",
    "    \n",
    "textPos.on_submit(handle_submit)\n",
    "textNeg.on_submit(handle_submit)\n",
    "\n"
   ]
  },
  {
   "cell_type": "markdown",
   "metadata": {},
   "source": [
    "<h1>Aggregation Approaches</h1>"
   ]
  },
  {
   "cell_type": "code",
   "execution_count": 4,
   "metadata": {
    "collapsed": false
   },
   "outputs": [
    {
     "name": "stdout",
     "output_type": "stream",
     "text": [
      "[0, 1] [2] +\n",
      "[0, 1] [2] +\n",
      "[0, 1] [2] +\n",
      "[0] [2] +\n",
      "[0] [2] +\n",
      "[0] [] +\n"
     ]
    }
   ],
   "source": [
    "allAgents = []\n",
    "\n",
    "textAgent = widgets.Text(description='Insert an Agent', width=500)\n",
    "display(textAgent)\n",
    "\n",
    "\n",
    "\n",
    "def handle_new_agent(sender):\n",
    "    \n",
    "    splitlist = (textAgent.value).split(\",\")\n",
    "    agentArgs = [int(a) for a in splitlist[0:-1]]\n",
    "    agentTotals = []\n",
    "    posFound = list(set(agentArgs).intersection(posArgs))\n",
    "    negFound = list(set(agentArgs).intersection(negArgs))\n",
    "    polarity = splitlist[-1]\n",
    "    print(posFound, negFound, polarity)\n",
    "    agentTotals = (posFound,negFound, polarity)\n",
    "    \n",
    "    allAgents.append(agentTotals)\n",
    "    \n",
    "textAgent.on_submit(handle_new_agent)"
   ]
  },
  {
   "cell_type": "code",
   "execution_count": 27,
   "metadata": {
    "collapsed": false
   },
   "outputs": [],
   "source": [
    "%%capture\n",
    "\n",
    "graphDistribs = [] # Not needed when we have the graphDistribsGlobal\n",
    "everyGraphProduced = np.unique(pg.generateGraphsGivenSetsOfArgs(posArgs, negArgs), axis=0)\n",
    "everyGraphProduced = pg.arrangeEveryGragph(everyGraphProduced)\n",
    "\n",
    "\n",
    "graphDistribsGlobal = []\n",
    "probDistribs = []\n",
    "argumentsInAgents = []\n",
    "polarities = []\n",
    "agentsStringified = []\n",
    "\n",
    "for agent in allAgents:\n",
    "    graphDistribsGlobalAgents = []\n",
    "    everyGraphProducedAgent = []\n",
    "    agPosArgs = agent[0]\n",
    "    agNegArgs = agent[1]\n",
    "    polarity = agent[2]\n",
    "    \n",
    "    argumentsInAgents.append([agPosArgs + agNegArgs])\n",
    "    polarities.append(polarity)\n",
    "    \n",
    "    agentsStringified.append(str(agent))\n",
    "    \n",
    "    # generate the plausible graphs for this agent\n",
    "    posArgsIdx = list(range(0,len(agPosArgs)))\n",
    "    negArgsIdx = list(range(len(agPosArgs), len(agPosArgs)+len(agNegArgs)))\n",
    "    x,y = pg.calculateProbabilityDistribution(posArgsIdx, negArgsIdx, polarity)\n",
    "    \n",
    "    # Generate an initial probability distribution for these graphs\n",
    "    initialProbDist = [1/len(x)] * len(x)\n",
    "    graphDistribs.append(x)\n",
    "    probDistribs.append(initialProbDist)\n",
    "    \n",
    "    # Convert the graphs into a global contribution, needed so that we can compare different agents of different sizes\n",
    "    noArgTypes = len(posArgs) + len(negArgs)\n",
    "    \n",
    "    \n",
    "    allAttacks = list(itertools.product(list(agPosArgs+agNegArgs), repeat=2))\n",
    "    allAttacksIdx = []\n",
    "    for attack in allAttacks:\n",
    "        ptn = ((attack[0]+1)*noArgTypes)- ((noArgTypes+1) - attack[1])+1\n",
    "        allAttacksIdx.append(ptn)\n",
    "    \n",
    "    for g in x:\n",
    "        #globalContribution = np.zeros(noArgTypes*noArgTypes)\n",
    "        globalContribution = np.full((noArgTypes*noArgTypes), np.inf)\n",
    "        globalContribution[allAttacksIdx] = g\n",
    "        graphDistribsGlobalAgents.append(globalContribution)\n",
    "    \n",
    "    graphDistribsGlobal.append(graphDistribsGlobalAgents)\n",
    "    \n",
    "    for g in y:\n",
    "        #globalContribution = np.zeros(noArgTypes*noArgTypes)\n",
    "        globalContribution = np.full((noArgTypes*noArgTypes), np.inf)\n",
    "        globalContribution[allAttacksIdx] = g\n",
    "    \n"
   ]
  },
  {
   "cell_type": "code",
   "execution_count": 28,
   "metadata": {
    "collapsed": false
   },
   "outputs": [],
   "source": [
    "############################################### Approach 1 ####################################################################\n",
    "\n",
    "allProbDistribs = np.zeros((len(everyGraphProduced),len(graphDistribsGlobal)))\n",
    "\n",
    "for agentIdx, agentGraphs in enumerate(graphDistribsGlobal):\n",
    "    \n",
    "    probDistrib = [0]*len(everyGraphProduced)\n",
    "    \n",
    "    for graph in agentGraphs:\n",
    "        i = (np.where((everyGraphProduced == graph).all(axis=1)))[0][0]\n",
    "        allProbDistribs[i,agentIdx] = 1\n"
   ]
  },
  {
   "cell_type": "code",
   "execution_count": 29,
   "metadata": {
    "collapsed": true
   },
   "outputs": [],
   "source": [
    "############################################### Approach 2 ####################################################################\n",
    "\n",
    "def checkBiDirAttacks(graph):\n",
    "    \n",
    "    argsList = range(0,int((math.sqrt(len(graph)))))\n",
    "    dualLocations =  list(itertools.combinations(argsList, 2))\n",
    "    \n",
    "    for loc in dualLocations:\n",
    "\n",
    "        noOfArgs = int(math.sqrt(len(graph)))\n",
    "        pos = (loc[0] * noOfArgs) + loc[1]\n",
    "        counterPos = (loc[1] * noOfArgs) + loc[0]\n",
    "            \n",
    "        net = graph[pos] + graph[counterPos]\n",
    "        \n",
    "        if net == 2:\n",
    "            graph[pos] = 2\n",
    "            graph[counterPos] = 2\n",
    "        \n",
    "    \n",
    "    return graph"
   ]
  },
  {
   "cell_type": "code",
   "execution_count": 30,
   "metadata": {
    "collapsed": false
   },
   "outputs": [],
   "source": [
    "%%capture\n",
    "allProbDistribs2 = np.zeros((len(everyGraphProduced),len(graphDistribsGlobal)))\n",
    "\n",
    "pnts = range(0, int(math.sqrt(len(everyGraphProduced[0]))))\n",
    "dualLocations = list(itertools.combinations(pnts, 2))\n",
    "\n",
    "for agentIdx, agentGraphs in enumerate(graphDistribsGlobal):\n",
    "    \n",
    "    probDistrib = [0]*len(everyGraphProduced)\n",
    "    \n",
    "    print('changing agent-----*******')\n",
    "    \n",
    "    for graph in agentGraphs:\n",
    "\n",
    "        for everyIdx, g in enumerate(everyGraphProduced):\n",
    "            \n",
    "            ginfs = np.sum(g == inf)\n",
    "            agentinfs = np.sum(graph == inf)\n",
    "            \n",
    "            # If the agent is same than he can enrich\n",
    "            if agentinfs == ginfs:\n",
    "                i = (np.where((everyGraphProduced == graph).all(axis=1)))[0][0]\n",
    "                allProbDistribs2[i,agentIdx] = 1\n",
    "            \n",
    "            # If the agent is smaller than he can enrich\n",
    "            if agentinfs > ginfs:\n",
    "                \n",
    "                x = checkBiDirAttacks(np.copy(graph))\n",
    "                y = checkBiDirAttacks(np.copy(g))\n",
    "                \n",
    "                multiple = x * y\n",
    "                np.isnan(multiple)\n",
    "                multiple[np.isnan(multiple)] = inf\n",
    "                multiple[np.where(multiple==4)] = multiple[np.where(multiple==4)] / 2\n",
    "                \n",
    "                print(y)\n",
    "                print(graph)\n",
    "                print('-----------------')\n",
    "                enrich = np.array_equal(multiple, graph)\n",
    "                if enrich:\n",
    "                    print(enrich)\n",
    "                    allProbDistribs2[everyIdx,agentIdx] = 1\n",
    "                             "
   ]
  },
  {
   "cell_type": "code",
   "execution_count": 31,
   "metadata": {
    "collapsed": false
   },
   "outputs": [],
   "source": [
    "%%capture\n",
    "############################################### Approach 3 ####################################################################\n",
    "\n",
    "\n",
    "\n",
    "allProbDistribs3 = np.zeros((len(everyGraphProduced),len(graphDistribsGlobal)))\n",
    "\n",
    "pnts = range(0, int(math.sqrt(len(everyGraphProduced[0]))))\n",
    "dualLocations = list(itertools.combinations(pnts, 2))\n",
    "\n",
    "for agentIdx, agentGraphs in enumerate(graphDistribsGlobal):\n",
    "    \n",
    "    probDistrib = [0]*len(everyGraphProduced)\n",
    "    \n",
    "    print('changing agent-----*******')\n",
    "    \n",
    "    for graph in agentGraphs:\n",
    "\n",
    "        for everyIdx, g in enumerate(everyGraphProduced):\n",
    "            print(everyIdx, g)\n",
    "            \n",
    "            ginfs = np.sum(g == inf)\n",
    "            agentinfs = np.sum(graph == inf)\n",
    "            \n",
    "            # If the agent is same than he can enrich\n",
    "            if agentinfs == ginfs:\n",
    "                i = (np.where((everyGraphProduced == graph).all(axis=1)))[0][0]\n",
    "                print(i)\n",
    "                allProbDistribs3[i,agentIdx] = 1\n",
    "            \n",
    "            # If the agent is larger than he can enrich\n",
    "            if agentinfs < ginfs:\n",
    "                \n",
    "                x = checkBiDirAttacks(np.copy(graph))\n",
    "                y = checkBiDirAttacks(np.copy(g))\n",
    "                \n",
    "                multiple = x * y\n",
    "                np.isnan(multiple)\n",
    "                multiple[np.isnan(multiple)] = inf\n",
    "                multiple[np.where(multiple==4)] = multiple[np.where(multiple==4)] / 2\n",
    "                \n",
    "                print(y)\n",
    "                print(graph)\n",
    "                print('-----------------')\n",
    "                enrich = np.array_equal(multiple, y)\n",
    "                polarityMatch = (polarities[agentIdx] == pg.getGraphPolarityMixedGraphSize(g, posArgs, negArgs))\n",
    "                if enrich and polarityMatch:\n",
    "                    print(enrich)\n",
    "                    allProbDistribs3[everyIdx,agentIdx] = 1\n",
    "                \n",
    "print(allProbDistribs3)     "
   ]
  },
  {
   "cell_type": "code",
   "execution_count": 32,
   "metadata": {
    "collapsed": false
   },
   "outputs": [],
   "source": [
    "%%capture\n",
    "############################################### Approach 4 ####################################################################\n",
    "\n",
    "\n",
    "\n",
    "allProbDistribs4 = np.zeros((len(everyGraphProduced),len(graphDistribsGlobal)))\n",
    "\n",
    "pnts = range(0, int(math.sqrt(len(everyGraphProduced[0]))))\n",
    "dualLocations = list(itertools.combinations(pnts, 2))\n",
    "\n",
    "for agentIdx, agentGraphs in enumerate(graphDistribsGlobal):\n",
    "    \n",
    "    probDistrib = [0]*len(everyGraphProduced)\n",
    "    \n",
    "    print('changing agent-----*******')\n",
    "    \n",
    "    for graph in agentGraphs:\n",
    "\n",
    "        for everyIdx, g in enumerate(everyGraphProduced):\n",
    "            \n",
    "            ginfs = np.sum(g == inf)\n",
    "            agentinfs = np.sum(graph == inf)\n",
    "            \n",
    "            # If the agent is same than he can enrich\n",
    "            if agentinfs == ginfs:\n",
    "                i = (np.where((everyGraphProduced == graph).all(axis=1)))[0][0]\n",
    "                allProbDistribs4[i,agentIdx] = 1\n",
    "            \n",
    "            # If the agent is smaller than he can enrich\n",
    "            if agentinfs > ginfs:\n",
    "                \n",
    "                x = checkBiDirAttacks(np.copy(graph))\n",
    "                y = checkBiDirAttacks(np.copy(g))\n",
    "                \n",
    "                multiple = x * y\n",
    "                np.isnan(multiple)\n",
    "                multiple[np.isnan(multiple)] = inf\n",
    "                multiple[np.where(multiple==4)] = multiple[np.where(multiple==4)] / 2\n",
    "                \n",
    "                print(y)\n",
    "                print(graph)\n",
    "                print('------smaller agent------')\n",
    "                enrich = np.array_equal(multiple, graph)\n",
    "                if enrich:\n",
    "                    print(enrich)\n",
    "                    allProbDistribs4[everyIdx,agentIdx] = 1\n",
    "            \n",
    "            # If the agent is larger than he can enrich\n",
    "            if agentinfs < ginfs:\n",
    "                \n",
    "                x = checkBiDirAttacks(np.copy(graph))\n",
    "                y = checkBiDirAttacks(np.copy(g))\n",
    "                \n",
    "                multiple = x * y\n",
    "                np.isnan(multiple)\n",
    "                multiple[np.isnan(multiple)] = inf\n",
    "                multiple[np.where(multiple==4)] = multiple[np.where(multiple==4)] / 2\n",
    "                \n",
    "                print(y)\n",
    "                print(graph)\n",
    "                print('------larger agent-------')\n",
    "                enrich = np.array_equal(multiple, y)\n",
    "                polarityMatch = (polarities[agentIdx] == pg.getGraphPolarityMixedGraphSize(g, posArgs, negArgs))\n",
    "                if enrich and polarityMatch:\n",
    "                    print(enrich)\n",
    "                    allProbDistribs4[everyIdx,agentIdx] = 1\n",
    "                \n",
    "print(allProbDistribs4)     "
   ]
  },
  {
   "cell_type": "code",
   "execution_count": 33,
   "metadata": {
    "collapsed": false
   },
   "outputs": [],
   "source": [
    "%%capture\n",
    "############################################### Approach 5 ####################################################################\n",
    "\n",
    "\n",
    "\n",
    "allProbDistribs5 = np.zeros((len(everyGraphProduced),len(graphDistribsGlobal)))\n",
    "\n",
    "pnts = range(0, int(math.sqrt(len(everyGraphProduced[0]))))\n",
    "dualLocations = list(itertools.combinations(pnts, 2))\n",
    "\n",
    "for agentIdx, agentGraphs in enumerate(graphDistribsGlobal):\n",
    "    \n",
    "    probDistrib = [0]*len(everyGraphProduced)\n",
    "    \n",
    "    print('changing agent-----*******')\n",
    "    \n",
    "    for graph in agentGraphs:\n",
    "\n",
    "        for everyIdx, g in enumerate(everyGraphProduced):\n",
    "            \n",
    "            ginfs = np.sum(g == inf)\n",
    "            agentinfs = np.sum(graph == inf)\n",
    "            \n",
    "            # If the agent is smaller than he can enrich\n",
    "            # we will check to see if the graph comparing too is the largest graph\n",
    "            if ginfs == 0:\n",
    "                \n",
    "                x = checkBiDirAttacks(np.copy(graph))\n",
    "                y = checkBiDirAttacks(np.copy(g))\n",
    "                \n",
    "                multiple = x * y\n",
    "                np.isnan(multiple)\n",
    "                multiple[np.isnan(multiple)] = inf\n",
    "                multiple[np.where(multiple==4)] = multiple[np.where(multiple==4)] / 2\n",
    "                \n",
    "                print(y)\n",
    "                print(graph)\n",
    "                print('-----------------')\n",
    "                enrich = np.array_equal(multiple, graph)\n",
    "                if enrich:\n",
    "                    print(enrich)\n",
    "                    allProbDistribs5[everyIdx,agentIdx] = 1\n",
    "                \n",
    "print(allProbDistribs5)     "
   ]
  },
  {
   "cell_type": "code",
   "execution_count": 34,
   "metadata": {
    "collapsed": false
   },
   "outputs": [
    {
     "data": {
      "image/png": "[encoded data removed]",
      "text/plain": [
       "<matplotlib.figure.Figure at 0x20b151780f0>"
      ]
     },
     "metadata": {},
     "output_type": "display_data"
    },
    {
     "data": {
      "image/png": "[encoded data removed]",
      "text/plain": [
       "<matplotlib.figure.Figure at 0x20b167d4ac8>"
      ]
     },
     "metadata": {},
     "output_type": "display_data"
    },
    {
     "data": {
      "image/png": "[encoded data removed]",
      "text/plain": [
       "<matplotlib.figure.Figure at 0x20b153508d0>"
      ]
     },
     "metadata": {},
     "output_type": "display_data"
    },
    {
     "data": {
      "image/png": "[encoded data removed]",
      "text/plain": [
       "<matplotlib.figure.Figure at 0x20b16a3df98>"
      ]
     },
     "metadata": {},
     "output_type": "display_data"
    },
    {
     "data": {
      "image/png": "[encoded data removed]",
      "text/plain": [
       "<matplotlib.figure.Figure at 0x20b16aa69e8>"
      ]
     },
     "metadata": {},
     "output_type": "display_data"
    },
    {
     "data": {
      "image/png": "[encoded data removed]",
      "text/plain": [
       "<matplotlib.figure.Figure at 0x20b16b30e80>"
      ]
     },
     "metadata": {},
     "output_type": "display_data"
    }
   ],
   "source": [
    "############################################### All Plots ####################################################################\n",
    "sumallProbDistribs = allProbDistribs / (allProbDistribs != 0).sum(0)\n",
    "sumallProbDistribs2 = allProbDistribs2 / (allProbDistribs2 != 0).sum(0)\n",
    "sumallProbDistribs3 = allProbDistribs3 / (allProbDistribs3 != 0).sum(0)\n",
    "sumallProbDistribs4 = allProbDistribs4 / (allProbDistribs4 != 0).sum(0)\n",
    "sumallProbDistribs5 = allProbDistribs5 / (allProbDistribs5 != 0).sum(0)\n",
    "\n",
    "\n",
    "net = np.sum(sumallProbDistribs, axis=1) / len(allAgents)\n",
    "net2 = np.sum(sumallProbDistribs2, axis=1) / len(allAgents)\n",
    "net3 = np.sum(sumallProbDistribs3, axis=1) /  len(allAgents)\n",
    "net4 = np.sum(sumallProbDistribs4, axis=1) / len(allAgents)\n",
    "net5 = np.sum(sumallProbDistribs5, axis=1) / len(allAgents)\n",
    "\n",
    "\n",
    "%matplotlib inline\n",
    "import matplotlib\n",
    "matplotlib.rcParams['backend'] = \"Qt4Agg\"\n",
    "import pylab\n",
    "import numpy as np\n",
    "\n",
    "\n",
    "x = range(0,len(net))  # 100 evenly-spaced values from 0 to 50\n",
    "\n",
    "\n",
    "pylab.plot(x, net)\n",
    "pylab.title('Approach 1 - Only Enrich Graphs Matching Agent Args')\n",
    "pylab.savefig('Fig1.png')\n",
    "pylab.show()\n",
    "\n",
    "pylab.plot(x, net2)\n",
    "pylab.title('Approach 2 - Can Enrich Higher Graphs')\n",
    "pylab.savefig('Fig2.png')\n",
    "pylab.show()\n",
    "\n",
    "pylab.plot(x, net3)\n",
    "pylab.title('Approach 3 - Can Enrich Lower Graphs')\n",
    "pylab.savefig('Fig3.png')\n",
    "pylab.show()\n",
    "\n",
    "pylab.plot(x, net4)\n",
    "pylab.title('Approach 4 - Can Enrich Higher and Lower')\n",
    "pylab.savefig('Fig4.png')\n",
    "pylab.show()\n",
    "\n",
    "pylab.plot(x, net5)\n",
    "pylab.title('Approach 5 - Enrich the Highest Graph Only')\n",
    "pylab.savefig('Fig5.png')\n",
    "pylab.show()\n",
    "\n",
    "\n",
    "pylab.plot(x, net, label='approach1')\n",
    "pylab.plot(x, net2, label='approach2')\n",
    "pylab.plot(x, net3, label='approach3')\n",
    "pylab.plot(x, net4, label='approach4')\n",
    "pylab.plot(x, net5, label='approach5')\n",
    "pylab.title('All Approaches')\n",
    "pylab.legend()\n",
    "pylab.savefig('FigAll.png')\n",
    "pylab.show()"
   ]
  },
  {
   "cell_type": "code",
   "execution_count": 35,
   "metadata": {
    "collapsed": false
   },
   "outputs": [
    {
     "data": {
      "text/plain": [
       "<matplotlib.text.Text at 0x20b16b8a7b8>"
      ]
     },
     "execution_count": 35,
     "metadata": {},
     "output_type": "execute_result"
    },
    {
     "data": {
      "image/png": "[encoded data removed]",
      "text/plain": [
       "<matplotlib.figure.Figure at 0x20b167236d8>"
      ]
     },
     "metadata": {},
     "output_type": "display_data"
    }
   ],
   "source": [
    "\n",
    "\n",
    "\n",
    "fig, axarr = plt.subplots(5, sharex=True)\n",
    "fig.set_figheight(18)\n",
    "\n",
    "axarr[0].plot(x, net)\n",
    "axarr[0].set_ylim([0, 0.6])\n",
    "axarr[0].set_title('Approach 1 - Only Enrich Graphs With Exactly Same Args as Agent')\n",
    "\n",
    "axarr[1].plot(x, net2)\n",
    "axarr[1].set_ylim([0, 0.6])\n",
    "axarr[1].set_title('Approach 2 - Can Enrich Higher Graphs')\n",
    "                   \n",
    "axarr[2].plot(x, net3)\n",
    "axarr[2].set_ylim([0, 0.6])\n",
    "axarr[2].set_title('Approach 3 - Can Enrich Lower Graphs')\n",
    "\n",
    "\n",
    "axarr[3].plot(x, net4)\n",
    "axarr[3].set_ylim([0, 0.6])\n",
    "axarr[3].set_title('Approach 4 - Can Enrich High and Low Graphs')\n",
    "\n",
    "axarr[4].plot(x, net5)\n",
    "axarr[4].set_ylim([0, 0.6])\n",
    "axarr[4].set_title('Approach 5 - Force Enrichment to Highest Graph')\n",
    "\n"
   ]
  },
  {
   "cell_type": "markdown",
   "metadata": {},
   "source": [
    "<h1>Query Approaches</h1>"
   ]
  },
  {
   "cell_type": "code",
   "execution_count": 36,
   "metadata": {
    "collapsed": false
   },
   "outputs": [],
   "source": [
    "textQueryAgent = widgets.Text(description='Insert Query Agent', width=500)\n",
    "display(textQueryAgent)\n",
    "# list of user provided args\n",
    "queryAgent = []\n",
    "\n",
    "def handle_submit(sender):\n",
    "    splitlist = (textQueryAgent.value).split(\",\")\n",
    "    args = [int(a) for a in splitlist]\n",
    "    queryAgent.extend(args)\n",
    "    print(queryAgent)\n",
    "        \n",
    "textQueryAgent.on_submit(handle_submit)\n",
    "\n"
   ]
  },
  {
   "cell_type": "code",
   "execution_count": 37,
   "metadata": {
    "collapsed": false
   },
   "outputs": [],
   "source": [
    "%%capture\n",
    "from IPython.core.display import display, HTML\n",
    "################################## Grounded Ext and Polarities Every Graph ######################################################\n",
    "\n",
    "groundedExtensionsEveryGraph = []\n",
    "print([groundedExtensionsEveryGraph.append(pg.getGroundedExtensionMixedGraphSize(thegraph, posArgs, negArgs)) for thegraph in everyGraphProduced])\n",
    "allEveryGraphPols = []\n",
    "for g in groundedExtensionsEveryGraph:\n",
    "    if (list(g) == []):\n",
    "        allEveryGraphPols.append('n')\n",
    "        continue\n",
    "    if (set(g) <= set(posArgs)):\n",
    "        allEveryGraphPols.append('+')\n",
    "        continue\n",
    "    if (set(g) <=set(negArgs)):\n",
    "        allEveryGraphPols.append('-')\n",
    "        continue\n",
    "    else:\n",
    "        allEveryGraphPols.append(' ')"
   ]
  },
  {
   "cell_type": "code",
   "execution_count": 38,
   "metadata": {
    "collapsed": false
   },
   "outputs": [],
   "source": [
    "############################################### Query Approach 1 ################################################################\n",
    "\n",
    "\n",
    "d = pd.DataFrame(np.zeros((4, 5)))\n",
    "#d.set_index(['positiveChance','negativeChance', 'neutralChance', 'nothingChance'])\n",
    "d.index = ['positiveChance','negativeChance', 'neutralChance', 'unknownChance']\n",
    "d.columns = ['Apprch1','Apprch2', 'Apprch3', 'Apprch4', 'Apprch5']\n",
    "\n",
    "queryAgent = [1]\n",
    "\n",
    "groundedMatches = []\n",
    "\n",
    "for i, groundedExtensionsEveryGraphSingle in enumerate(groundedExtensionsEveryGraph):\n",
    "    \n",
    "    match = set(groundedExtensionsEveryGraphSingle) == set(queryAgent)\n",
    "    if match:\n",
    "        groundedMatches.append(i)\n",
    "        \n",
    "\n",
    "        "
   ]
  },
  {
   "cell_type": "code",
   "execution_count": 39,
   "metadata": {
    "collapsed": false
   },
   "outputs": [
    {
     "data": {
      "text/html": [
       "<h3>Query Approach 1</h3>"
      ],
      "text/plain": [
       "<IPython.core.display.HTML object>"
      ]
     },
     "metadata": {},
     "output_type": "display_data"
    },
    {
     "data": {
      "text/html": [
       "<div>\n",
       "<style>\n",
       "    .dataframe thead tr:only-child th {\n",
       "        text-align: right;\n",
       "    }\n",
       "\n",
       "    .dataframe thead th {\n",
       "        text-align: left;\n",
       "    }\n",
       "\n",
       "    .dataframe tbody tr th {\n",
       "        vertical-align: top;\n",
       "    }\n",
       "</style>\n",
       "<table border=\"1\" class=\"dataframe\">\n",
       "  <thead>\n",
       "    <tr style=\"text-align: right;\">\n",
       "      <th></th>\n",
       "      <th>Apprch1</th>\n",
       "      <th>Apprch2</th>\n",
       "      <th>Apprch3</th>\n",
       "      <th>Apprch4</th>\n",
       "      <th>Apprch5</th>\n",
       "    </tr>\n",
       "  </thead>\n",
       "  <tbody>\n",
       "    <tr>\n",
       "      <th>positiveChance</th>\n",
       "      <td>0.0</td>\n",
       "      <td>0.007576</td>\n",
       "      <td>0.083333</td>\n",
       "      <td>0.090909</td>\n",
       "      <td>0.010417</td>\n",
       "    </tr>\n",
       "    <tr>\n",
       "      <th>negativeChance</th>\n",
       "      <td>0.0</td>\n",
       "      <td>0.000000</td>\n",
       "      <td>0.000000</td>\n",
       "      <td>0.000000</td>\n",
       "      <td>0.000000</td>\n",
       "    </tr>\n",
       "    <tr>\n",
       "      <th>neutralChance</th>\n",
       "      <td>0.0</td>\n",
       "      <td>0.000000</td>\n",
       "      <td>0.000000</td>\n",
       "      <td>0.000000</td>\n",
       "      <td>0.000000</td>\n",
       "    </tr>\n",
       "    <tr>\n",
       "      <th>unknownChance</th>\n",
       "      <td>0.0</td>\n",
       "      <td>0.000000</td>\n",
       "      <td>0.000000</td>\n",
       "      <td>0.000000</td>\n",
       "      <td>0.000000</td>\n",
       "    </tr>\n",
       "  </tbody>\n",
       "</table>\n",
       "</div>"
      ],
      "text/plain": [
       "                Apprch1   Apprch2   Apprch3   Apprch4   Apprch5\n",
       "positiveChance      0.0  0.007576  0.083333  0.090909  0.010417\n",
       "negativeChance      0.0  0.000000  0.000000  0.000000  0.000000\n",
       "neutralChance       0.0  0.000000  0.000000  0.000000  0.000000\n",
       "unknownChance       0.0  0.000000  0.000000  0.000000  0.000000"
      ]
     },
     "execution_count": 39,
     "metadata": {},
     "output_type": "execute_result"
    }
   ],
   "source": [
    "allnets = [net, net2, net3, net4, net5]\n",
    "\n",
    "for netNo, n in enumerate(allnets):\n",
    "    groundedMatchesProbs = [n[i] for i in groundedMatches]\n",
    "    groundedMatchesSigns = [allEveryGraphPols[i] for i in groundedMatches]\n",
    "    \n",
    "    positiveChance = 0\n",
    "    negativeChance = 0\n",
    "    neutralChance = 0\n",
    "    nothingChance = 0\n",
    "\n",
    "    for i, sign in enumerate(groundedMatchesSigns):\n",
    "        if sign == '+':\n",
    "            positiveChance += groundedMatchesProbs[i]\n",
    "            continue\n",
    "        if sign == '-':\n",
    "            negativeChance += groundedMatchesProbs[i]\n",
    "            continue\n",
    "        if sign == 'n':\n",
    "            neutralChance += groundedMatchesProbs[i]\n",
    "            continue\n",
    "        else:\n",
    "            nothingChance += groundedMatchesProbs[i]\n",
    "            continue\n",
    "            \n",
    "    d.iloc[:,netNo] = [positiveChance, negativeChance, neutralChance, nothingChance]\n",
    "\n",
    "display(HTML('<h3>Query Approach 1</h3>'))\n",
    "d"
   ]
  },
  {
   "cell_type": "code",
   "execution_count": 40,
   "metadata": {
    "collapsed": false
   },
   "outputs": [],
   "source": [
    "%%capture\n",
    "################################################ Query Approach 2 ################################################################\n",
    "\n",
    "\n",
    "d = pd.DataFrame(np.zeros((4, 5)))\n",
    "#d.set_index(['positiveChance','negativeChance', 'neutralChance', 'nothingChance'])\n",
    "d.index = ['positiveChance','negativeChance', 'neutralChance', 'unknownChance']\n",
    "d.columns = ['Apprch1','Apprch2', 'Apprch3', 'Apprch4', 'Apprch5']\n",
    "\n",
    "queryAgent = [1]\n",
    "\n",
    "groundedMatches = []\n",
    "\n",
    "for i, groundedExtensionsEveryGraphSingle in enumerate(groundedExtensionsEveryGraph):\n",
    "    match = set(queryAgent) <= set(groundedExtensionsEveryGraphSingle)\n",
    "    print('q:', queryAgent, 'g:', groundedExtensionsEveryGraphSingle, ' ',match)\n",
    "    if match:\n",
    "        groundedMatches.append(i)\n",
    "        \n",
    "groundedMatches\n",
    "groundedMatchesProbs = [n[i] for i in groundedMatches]\n",
    "print(groundedMatchesProbs)"
   ]
  },
  {
   "cell_type": "code",
   "execution_count": 41,
   "metadata": {
    "collapsed": false
   },
   "outputs": [
    {
     "data": {
      "text/html": [
       "<h3>Query Approach 2</h3>"
      ],
      "text/plain": [
       "<IPython.core.display.HTML object>"
      ]
     },
     "metadata": {},
     "output_type": "display_data"
    },
    {
     "data": {
      "text/html": [
       "<div>\n",
       "<style>\n",
       "    .dataframe thead tr:only-child th {\n",
       "        text-align: right;\n",
       "    }\n",
       "\n",
       "    .dataframe thead th {\n",
       "        text-align: left;\n",
       "    }\n",
       "\n",
       "    .dataframe tbody tr th {\n",
       "        vertical-align: top;\n",
       "    }\n",
       "</style>\n",
       "<table border=\"1\" class=\"dataframe\">\n",
       "  <thead>\n",
       "    <tr style=\"text-align: right;\">\n",
       "      <th></th>\n",
       "      <th>Apprch1</th>\n",
       "      <th>Apprch2</th>\n",
       "      <th>Apprch3</th>\n",
       "      <th>Apprch4</th>\n",
       "      <th>Apprch5</th>\n",
       "    </tr>\n",
       "  </thead>\n",
       "  <tbody>\n",
       "    <tr>\n",
       "      <th>positiveChance</th>\n",
       "      <td>0.5</td>\n",
       "      <td>0.834848</td>\n",
       "      <td>0.416667</td>\n",
       "      <td>0.707071</td>\n",
       "      <td>0.916667</td>\n",
       "    </tr>\n",
       "    <tr>\n",
       "      <th>negativeChance</th>\n",
       "      <td>0.0</td>\n",
       "      <td>0.000000</td>\n",
       "      <td>0.000000</td>\n",
       "      <td>0.000000</td>\n",
       "      <td>0.000000</td>\n",
       "    </tr>\n",
       "    <tr>\n",
       "      <th>neutralChance</th>\n",
       "      <td>0.0</td>\n",
       "      <td>0.000000</td>\n",
       "      <td>0.000000</td>\n",
       "      <td>0.000000</td>\n",
       "      <td>0.000000</td>\n",
       "    </tr>\n",
       "    <tr>\n",
       "      <th>unknownChance</th>\n",
       "      <td>0.0</td>\n",
       "      <td>0.015152</td>\n",
       "      <td>0.000000</td>\n",
       "      <td>0.015152</td>\n",
       "      <td>0.020833</td>\n",
       "    </tr>\n",
       "  </tbody>\n",
       "</table>\n",
       "</div>"
      ],
      "text/plain": [
       "                Apprch1   Apprch2   Apprch3   Apprch4   Apprch5\n",
       "positiveChance      0.5  0.834848  0.416667  0.707071  0.916667\n",
       "negativeChance      0.0  0.000000  0.000000  0.000000  0.000000\n",
       "neutralChance       0.0  0.000000  0.000000  0.000000  0.000000\n",
       "unknownChance       0.0  0.015152  0.000000  0.015152  0.020833"
      ]
     },
     "execution_count": 41,
     "metadata": {},
     "output_type": "execute_result"
    }
   ],
   "source": [
    "allnets = [net, net2, net3, net4, net5]\n",
    "\n",
    "for netNo, n in enumerate(allnets):\n",
    "    groundedMatchesProbs = [n[i] for i in groundedMatches]\n",
    "    groundedMatchesSigns = [allEveryGraphPols[i] for i in groundedMatches]\n",
    "    \n",
    "    positiveChance = 0\n",
    "    negativeChance = 0\n",
    "    neutralChance = 0\n",
    "    nothingChance = 0\n",
    "\n",
    "    for i, sign in enumerate(groundedMatchesSigns):\n",
    "        if sign == '+':\n",
    "            positiveChance += groundedMatchesProbs[i]\n",
    "            continue\n",
    "        if sign == '-':\n",
    "            negativeChance += groundedMatchesProbs[i]\n",
    "            continue\n",
    "        if sign == 'n':\n",
    "            neutralChance += groundedMatchesProbs[i]\n",
    "            continue\n",
    "        else:\n",
    "            nothingChance += groundedMatchesProbs[i]\n",
    "            continue\n",
    "            \n",
    "    d.iloc[:,netNo] = [positiveChance, negativeChance, neutralChance, nothingChance]\n",
    "    \n",
    "display(HTML('<h3>Query Approach 2</h3>'))   \n",
    "d"
   ]
  },
  {
   "cell_type": "code",
   "execution_count": 42,
   "metadata": {
    "collapsed": false
   },
   "outputs": [],
   "source": [
    "%%capture\n",
    "############################################### Query Approach 3 ################################################################\n",
    "\n",
    "d = pd.DataFrame(np.zeros((4, 5)))\n",
    "#d.set_index(['positiveChance','negativeChance', 'neutralChance', 'nothingChance'])\n",
    "d.index = ['positiveChance','negativeChance', 'neutralChance', 'unknownChance']\n",
    "d.columns = ['Apprch1','Apprch2', 'Apprch3', 'Apprch4', 'Apprch5']\n",
    "\n",
    "queryAgent = [1]\n",
    "\n",
    "groundedMatches = []\n",
    "\n",
    "for i, groundedExtensionsEveryGraphSingle in enumerate(groundedExtensionsEveryGraph):\n",
    "    \n",
    "    match = set(groundedExtensionsEveryGraphSingle) <= set(queryAgent)\n",
    "    if match:\n",
    "        groundedMatches.append(i)"
   ]
  },
  {
   "cell_type": "code",
   "execution_count": 43,
   "metadata": {
    "collapsed": false
   },
   "outputs": [
    {
     "data": {
      "text/html": [
       "<h3>Query Approach 3</h3>"
      ],
      "text/plain": [
       "<IPython.core.display.HTML object>"
      ]
     },
     "metadata": {},
     "output_type": "display_data"
    },
    {
     "data": {
      "text/html": [
       "<div>\n",
       "<style>\n",
       "    .dataframe thead tr:only-child th {\n",
       "        text-align: right;\n",
       "    }\n",
       "\n",
       "    .dataframe thead th {\n",
       "        text-align: left;\n",
       "    }\n",
       "\n",
       "    .dataframe tbody tr th {\n",
       "        vertical-align: top;\n",
       "    }\n",
       "</style>\n",
       "<table border=\"1\" class=\"dataframe\">\n",
       "  <thead>\n",
       "    <tr style=\"text-align: right;\">\n",
       "      <th></th>\n",
       "      <th>Apprch1</th>\n",
       "      <th>Apprch2</th>\n",
       "      <th>Apprch3</th>\n",
       "      <th>Apprch4</th>\n",
       "      <th>Apprch5</th>\n",
       "    </tr>\n",
       "  </thead>\n",
       "  <tbody>\n",
       "    <tr>\n",
       "      <th>positiveChance</th>\n",
       "      <td>0.0</td>\n",
       "      <td>0.007576</td>\n",
       "      <td>0.083333</td>\n",
       "      <td>0.090909</td>\n",
       "      <td>0.010417</td>\n",
       "    </tr>\n",
       "    <tr>\n",
       "      <th>negativeChance</th>\n",
       "      <td>0.0</td>\n",
       "      <td>0.000000</td>\n",
       "      <td>0.000000</td>\n",
       "      <td>0.000000</td>\n",
       "      <td>0.000000</td>\n",
       "    </tr>\n",
       "    <tr>\n",
       "      <th>neutralChance</th>\n",
       "      <td>0.0</td>\n",
       "      <td>0.030303</td>\n",
       "      <td>0.000000</td>\n",
       "      <td>0.030303</td>\n",
       "      <td>0.031250</td>\n",
       "    </tr>\n",
       "    <tr>\n",
       "      <th>unknownChance</th>\n",
       "      <td>0.0</td>\n",
       "      <td>0.000000</td>\n",
       "      <td>0.000000</td>\n",
       "      <td>0.000000</td>\n",
       "      <td>0.000000</td>\n",
       "    </tr>\n",
       "  </tbody>\n",
       "</table>\n",
       "</div>"
      ],
      "text/plain": [
       "                Apprch1   Apprch2   Apprch3   Apprch4   Apprch5\n",
       "positiveChance      0.0  0.007576  0.083333  0.090909  0.010417\n",
       "negativeChance      0.0  0.000000  0.000000  0.000000  0.000000\n",
       "neutralChance       0.0  0.030303  0.000000  0.030303  0.031250\n",
       "unknownChance       0.0  0.000000  0.000000  0.000000  0.000000"
      ]
     },
     "execution_count": 43,
     "metadata": {},
     "output_type": "execute_result"
    }
   ],
   "source": [
    "allnets = [net, net2, net3, net4, net5]\n",
    "\n",
    "for netNo, n in enumerate(allnets):\n",
    "    groundedMatchesProbs = [n[i] for i in groundedMatches]\n",
    "    groundedMatchesSigns = [allEveryGraphPols[i] for i in groundedMatches]\n",
    "    \n",
    "    positiveChance = 0\n",
    "    negativeChance = 0\n",
    "    neutralChance = 0\n",
    "    nothingChance = 0\n",
    "\n",
    "    for i, sign in enumerate(groundedMatchesSigns):\n",
    "        if sign == '+':\n",
    "            positiveChance += groundedMatchesProbs[i]\n",
    "            continue\n",
    "        if sign == '-':\n",
    "            negativeChance += groundedMatchesProbs[i]\n",
    "            continue\n",
    "        if sign == 'n':\n",
    "            neutralChance += groundedMatchesProbs[i]\n",
    "            continue\n",
    "        else:\n",
    "            nothingChance += groundedMatchesProbs[i]\n",
    "            continue\n",
    "            \n",
    "    d.iloc[:,netNo] = [positiveChance, negativeChance, neutralChance, nothingChance]\n",
    "\n",
    "display(HTML('<h3>Query Approach 3</h3>'))\n",
    "d"
   ]
  },
  {
   "cell_type": "code",
   "execution_count": 44,
   "metadata": {
    "collapsed": true
   },
   "outputs": [],
   "source": [
    "############################################### Query Approach 4 ################################################################\n",
    "\n",
    "d = pd.DataFrame(np.zeros((4, 5)))\n",
    "#d.set_index(['positiveChance','negativeChance', 'neutralChance', 'nothingChance'])\n",
    "d.index = ['positiveChance','negativeChance', 'neutralChance', 'nothingChance']\n",
    "d.columns = ['Apprch1','Apprch2', 'Apprch3', 'Apprch4', 'Apprch5']\n",
    "\n",
    "queryAgent = [1]\n",
    "\n",
    "groundedMatches = []\n",
    "\n",
    "for i, groundedExtensionsEveryGraphSingle in enumerate(groundedExtensionsEveryGraph):\n",
    "    \n",
    "    match = set(groundedExtensionsEveryGraphSingle).intersection(queryAgent)\n",
    "    if match:\n",
    "        groundedMatches.append(i)\n",
    "        "
   ]
  },
  {
   "cell_type": "code",
   "execution_count": 45,
   "metadata": {
    "collapsed": false
   },
   "outputs": [],
   "source": [
    "allnets = [net, net2, net3, net4, net5]\n",
    "\n",
    "for netNo, n in enumerate(allnets):\n",
    "    groundedMatchesProbs = [n[i] for i in groundedMatches]\n",
    "    groundedMatchesSigns = [allEveryGraphPols[i] for i in groundedMatches]\n",
    "    \n",
    "    positiveChance = 0\n",
    "    negativeChance = 0\n",
    "    neutralChance = 0\n",
    "    nothingChance = 0\n",
    "\n",
    "    for i, sign in enumerate(groundedMatchesSigns):\n",
    "        if sign == '+':\n",
    "            positiveChance += groundedMatchesProbs[i]\n",
    "            continue\n",
    "        if sign == '-':\n",
    "            negativeChance += groundedMatchesProbs[i]\n",
    "            continue\n",
    "        if sign == 'n':\n",
    "            neutralChance += groundedMatchesProbs[i]\n",
    "            continue\n",
    "        else:\n",
    "            nothingChance += groundedMatchesProbs[i]\n",
    "            continue\n",
    "            \n",
    "    d.iloc[:,netNo] = [positiveChance, negativeChance, neutralChance, nothingChance]\n"
   ]
  },
  {
   "cell_type": "code",
   "execution_count": 46,
   "metadata": {
    "collapsed": false
   },
   "outputs": [
    {
     "data": {
      "text/html": [
       "<h3>Query Approach 4</h3>"
      ],
      "text/plain": [
       "<IPython.core.display.HTML object>"
      ]
     },
     "metadata": {},
     "output_type": "display_data"
    },
    {
     "data": {
      "text/html": [
       "<div>\n",
       "<style>\n",
       "    .dataframe thead tr:only-child th {\n",
       "        text-align: right;\n",
       "    }\n",
       "\n",
       "    .dataframe thead th {\n",
       "        text-align: left;\n",
       "    }\n",
       "\n",
       "    .dataframe tbody tr th {\n",
       "        vertical-align: top;\n",
       "    }\n",
       "</style>\n",
       "<table border=\"1\" class=\"dataframe\">\n",
       "  <thead>\n",
       "    <tr style=\"text-align: right;\">\n",
       "      <th></th>\n",
       "      <th>Apprch1</th>\n",
       "      <th>Apprch2</th>\n",
       "      <th>Apprch3</th>\n",
       "      <th>Apprch4</th>\n",
       "      <th>Apprch5</th>\n",
       "    </tr>\n",
       "  </thead>\n",
       "  <tbody>\n",
       "    <tr>\n",
       "      <th>positiveChance</th>\n",
       "      <td>0.5</td>\n",
       "      <td>0.834848</td>\n",
       "      <td>0.416667</td>\n",
       "      <td>0.707071</td>\n",
       "      <td>0.916667</td>\n",
       "    </tr>\n",
       "    <tr>\n",
       "      <th>negativeChance</th>\n",
       "      <td>0.0</td>\n",
       "      <td>0.000000</td>\n",
       "      <td>0.000000</td>\n",
       "      <td>0.000000</td>\n",
       "      <td>0.000000</td>\n",
       "    </tr>\n",
       "    <tr>\n",
       "      <th>neutralChance</th>\n",
       "      <td>0.0</td>\n",
       "      <td>0.000000</td>\n",
       "      <td>0.000000</td>\n",
       "      <td>0.000000</td>\n",
       "      <td>0.000000</td>\n",
       "    </tr>\n",
       "    <tr>\n",
       "      <th>nothingChance</th>\n",
       "      <td>0.0</td>\n",
       "      <td>0.015152</td>\n",
       "      <td>0.000000</td>\n",
       "      <td>0.015152</td>\n",
       "      <td>0.020833</td>\n",
       "    </tr>\n",
       "  </tbody>\n",
       "</table>\n",
       "</div>"
      ],
      "text/plain": [
       "                Apprch1   Apprch2   Apprch3   Apprch4   Apprch5\n",
       "positiveChance      0.5  0.834848  0.416667  0.707071  0.916667\n",
       "negativeChance      0.0  0.000000  0.000000  0.000000  0.000000\n",
       "neutralChance       0.0  0.000000  0.000000  0.000000  0.000000\n",
       "nothingChance       0.0  0.015152  0.000000  0.015152  0.020833"
      ]
     },
     "execution_count": 46,
     "metadata": {},
     "output_type": "execute_result"
    }
   ],
   "source": [
    "display(HTML('<h3>Query Approach 4</h3>'))\n",
    "d"
   ]
  },
  {
   "cell_type": "code",
   "execution_count": 47,
   "metadata": {
    "collapsed": false
   },
   "outputs": [
    {
     "data": {
      "text/plain": [
       "array([ 0.        ,  0.        ,  0.07142857,  0.07142857,  0.        ,\n",
       "        0.        ,  0.07142857,  0.07142857,  0.07142857,  0.07142857,\n",
       "        0.        ,  0.07142857,  0.        ,  0.        ,  0.        ,\n",
       "        0.        ,  0.        ,  0.        ,  0.        ,  0.        ,\n",
       "        0.        ,  0.33333333,  0.        ,  0.        ,  0.        ,\n",
       "        0.16666667,  0.        ,  0.        ])"
      ]
     },
     "execution_count": 47,
     "metadata": {},
     "output_type": "execute_result"
    }
   ],
   "source": [
    "net"
   ]
  },
  {
   "cell_type": "code",
   "execution_count": 48,
   "metadata": {
    "collapsed": false
   },
   "outputs": [
    {
     "data": {
      "text/plain": [
       "array([[  0.,   0.,   0.,   0.,   0.,   0.,   0.,   0.,   0.],\n",
       "       [  0.,   0.,   1.,   0.,   0.,   1.,   1.,   1.,   0.],\n",
       "       [  0.,   0.,   1.,   0.,   0.,   1.,   1.,   0.,   0.],\n",
       "       [  0.,   0.,   1.,   0.,   0.,   1.,   0.,   0.,   0.],\n",
       "       [  0.,   0.,   1.,   0.,   0.,   0.,   1.,   1.,   0.],\n",
       "       [  0.,   0.,   1.,   0.,   0.,   0.,   1.,   0.,   0.],\n",
       "       [  0.,   0.,   1.,   0.,   0.,   0.,   0.,   1.,   0.],\n",
       "       [  0.,   0.,   1.,   0.,   0.,   0.,   0.,   0.,   0.],\n",
       "       [  0.,   0.,   1.,   0.,   0.,   1.,   0.,   1.,   0.],\n",
       "       [  0.,   0.,   0.,   0.,   0.,   1.,   1.,   0.,   0.],\n",
       "       [  0.,   0.,   0.,   0.,   0.,   1.,   0.,   1.,   0.],\n",
       "       [  0.,   0.,   0.,   0.,   0.,   1.,   0.,   0.,   0.],\n",
       "       [  0.,   0.,   0.,   0.,   0.,   0.,   1.,   1.,   0.],\n",
       "       [  0.,   0.,   0.,   0.,   0.,   0.,   1.,   0.,   0.],\n",
       "       [  0.,   0.,   0.,   0.,   0.,   0.,   0.,   1.,   0.],\n",
       "       [  0.,   0.,   0.,   0.,   0.,   1.,   1.,   1.,   0.],\n",
       "       [ inf,  inf,  inf,  inf,   0.,   1.,  inf,   1.,   0.],\n",
       "       [ inf,  inf,  inf,  inf,   0.,   1.,  inf,   0.,   0.],\n",
       "       [ inf,  inf,  inf,  inf,   0.,   0.,  inf,   1.,   0.],\n",
       "       [ inf,  inf,  inf,  inf,   0.,   0.,  inf,   0.,   0.],\n",
       "       [  0.,  inf,   0.,  inf,  inf,  inf,   1.,  inf,   0.],\n",
       "       [  0.,  inf,   1.,  inf,  inf,  inf,   0.,  inf,   0.],\n",
       "       [  0.,  inf,   0.,  inf,  inf,  inf,   0.,  inf,   0.],\n",
       "       [  0.,   0.,  inf,   0.,   0.,  inf,  inf,  inf,  inf],\n",
       "       [  0.,  inf,   1.,  inf,  inf,  inf,   1.,  inf,   0.],\n",
       "       [  0.,  inf,  inf,  inf,  inf,  inf,  inf,  inf,  inf],\n",
       "       [ inf,  inf,  inf,  inf,   0.,  inf,  inf,  inf,  inf],\n",
       "       [ inf,  inf,  inf,  inf,  inf,  inf,  inf,  inf,   0.]])"
      ]
     },
     "execution_count": 48,
     "metadata": {},
     "output_type": "execute_result"
    }
   ],
   "source": [
    "everyGraphProduced"
   ]
  },
  {
   "cell_type": "code",
   "execution_count": null,
   "metadata": {
    "collapsed": true
   },
   "outputs": [],
   "source": []
  }
 ],
 "metadata": {
  "kernelspec": {
   "display_name": "Python 3",
   "language": "python",
   "name": "python3"
  },
  "language_info": {
   "codemirror_mode": {
    "name": "ipython",
    "version": 3
   },
   "file_extension": ".py",
   "mimetype": "text/x-python",
   "name": "python",
   "nbconvert_exporter": "python",
   "pygments_lexer": "ipython3",
   "version": "3.5.2"
  }
 },
 "nbformat": 4,
 "nbformat_minor": 0
}
