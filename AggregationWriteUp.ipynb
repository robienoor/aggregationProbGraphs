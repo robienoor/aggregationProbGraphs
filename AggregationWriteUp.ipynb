{
 "cells": [
  {
   "cell_type": "code",
   "execution_count": 140,
   "metadata": {
    "collapsed": false
   },
   "outputs": [
    {
     "data": {
      "text/html": [
       "<script>\n",
       "code_show=true; \n",
       "function code_toggle() {\n",
       " if (code_show){\n",
       " $('div.input').hide();\n",
       " } else {\n",
       " $('div.input').show();\n",
       " }\n",
       " code_show = !code_show\n",
       "} \n",
       "$( document ).ready(code_toggle);\n",
       "</script>\n",
       "The raw code for this IPython notebook is by default hidden for easier reading.\n",
       "To toggle on/off the raw code, click <a href=\"javascript:code_toggle()\">here</a>."
      ],
      "text/plain": [
       "<IPython.core.display.HTML object>"
      ]
     },
     "execution_count": 140,
     "metadata": {},
     "output_type": "execute_result"
    }
   ],
   "source": [
    "from IPython.display import HTML\n",
    "HTML('''<script>\n",
    "code_show=true; \n",
    "function code_toggle() {\n",
    " if (code_show){\n",
    " $('div.input').hide();\n",
    " } else {\n",
    " $('div.input').show();\n",
    " }\n",
    " code_show = !code_show\n",
    "} \n",
    "$( document ).ready(code_toggle);\n",
    "</script>\n",
    "The raw code for this IPython notebook is by default hidden for easier reading.\n",
    "To toggle on/off the raw code, click <a href=\"javascript:code_toggle()\">here</a>.''')"
   ]
  },
  {
   "cell_type": "markdown",
   "metadata": {},
   "source": [
    "<center><h1 style=\"color:red;\">On Aggregating Probabilistic Argument Graphs from Multiple Agents and Assigning Graphs to Query Agents</h1></center>"
   ]
  },
  {
   "cell_type": "markdown",
   "metadata": {},
   "source": [
    "<center><h2 style=\"color:red;\">Abstract</h2></center>\n",
    "In this paper we explore the problem of creating a probability distribution across argument graphs when collecting arguments and preferences from multiple agents. An agent proposes a set of arguments and indicates which arguments they believe should be in the grounded extension of any graph containing those arguments proposed. We propose 5 functions which aggregate probability graphs from such agents.\n",
    "We also demonstrate a use of such a probabilty distribution by investigating some ways in which we can assign a probabilty graph and a polarity to <b>query</b> agents who do not indicate a preference to any of their arguments. We define some desirable properties for such a system and demonstrate our approaches through experimental results"
   ]
  },
  {
   "cell_type": "markdown",
   "metadata": {},
   "source": [
    "<center><h2 style=\"color:red;\">Creating A Probabilty Distribution of Graphs from Multiple Agents</h2></center>\n",
    "\n",
    "<center><h3>Desirable Properties</h3></center>\n",
    "\n",
    "Here we propose some properties that we expect to hold for any approach. Following this we introduce 5 aggregation approaches and conclude by assesing how many of these properties hold for each approach\n",
    "\n",
    "<ol>\n",
    "<li>$ F([(P_1,G_1)]) = (P_1,G_1)$ - Identity</li>\n",
    "    <ul>\n",
    "    <li>if only one agent is used in the aggregation then the resulting probability distribution should be the same as the input agent </li>\n",
    "    </ul>\n",
    "    <br>\n",
    "    \n",
    "\n",
    "<li>$ F([(P_1,G_1),(P_1,G_1),(P_1,G_1)]) = (P_1,G_1)$</li>\n",
    "    <ul>\n",
    "    <li>If all agents used in the aggregation are the same, then the resulting probability distribution should be the same as the one of the agents </li>\n",
    "    </ul>\n",
    "    <br>\n",
    "    \n",
    "<li>$ F([(P_1,G_1),(P_2,G_2),(P_3,G_4)]) \\equiv F([(P_2,G_2),(P_1,G_1),(P_3,G_4)])$ - Symmetry</li>\n",
    "    <ul>\n",
    "    <li>The order in which agents are aggregated should not affect the outcome</li>\n",
    "    </ul>\n",
    "    <br>\n",
    "    \n",
    "<li>$ F([(P_1,G_1)...(P_n,G_n)]) = (P,G)$</li>\n",
    "    <ul>\n",
    "    <li>Given a set of probability distributions accross graphs we always expect some aggregation to occur</li>\n",
    "    </ul>\n",
    "    <br>\n",
    "    \n",
    "<li>$ F([(P_1,G)...(P_2,G)]) = (P,G)$</li>\n",
    "    <ul>\n",
    "    <li>We expect normality from a set of graphs. That is to say that when aggregating probabilistic graphs from agents proposing exactly the same set of arguments yet different polarites we should see that the resulting distribution is a reflection of ratio of positive:negative agents</li>\n",
    "    </ul>\n",
    "    <br>\n",
    "   \n",
    "<li>$ F([(P_1,G)...(P_n,G)]) = (P,G)$ and $P s.t \\sum_{n=1}^{\\infty} n = distance(P,P_i)$ is minimal</li>\n",
    "    <ul>\n",
    "    <li>When measuring subsequent distributions we expect the distance to be minimal</li>\n",
    "    </ul>\n",
    "    <br>\n",
    "   \n",
    "</ol>"
   ]
  },
  {
   "cell_type": "markdown",
   "metadata": {},
   "source": [
    "<center><h3>Approaches</h3></center>\n",
    "\n",
    "In the following we propose 5 approaches to producing a probability distribution given a collection of agents. Each approach is illustrated through an example, furthermore the intuition of each approach is explained.  \n",
    "\n",
    "<h3>Approach 1 - No Enrichment</h3>\n",
    "\n",
    "In this approach we say that an agent can only distribute mass into argument graphs that contain exactly the arguments proposed by the agent. For example let us say we have three arguments [a,b,c]. Arguments [a,c] form a coalition and argument [b] is in its own coaltion. For ease of reference we will call the set [a,c] postive arguments and the set [b] negative arguments.\n",
    "\n",
    "Two agents <b>x</b> and <b>y</b> propose the followning:\n",
    "\n",
    "<ul>\n",
    "<li>Agent <b>x</b> proposes arguments [a,b,c]. Furthermore x proposes that the grounded extension of any graph and subgraph of arguments [a,b,c] should be positive (i.e. should contain only positive arguments)</li>\n",
    "\n",
    "<li>Agent <b>x</b> proposes arguments [a,b]. Furthermore y proposes that the grounded extension of any graph and subgraph of arguments [a,b,c] should also be positive</li>\n",
    "</ul>\n",
    "\n",
    "The resulting distribution arises under Approach 1 and our example\n"
   ]
  },
  {
   "cell_type": "markdown",
   "metadata": {},
   "source": [
    "<style type=\"text/css\">\n",
    "\ttable.tableizer-table {\n",
    "\t\tfont-size: 12px;\n",
    "\t\tborder: 1px solid #CCC; \n",
    "\t\tfont-family: Arial, Helvetica, sans-serif;\n",
    "\t} \n",
    "\t.tableizer-table td {\n",
    "\t\tpadding: 4px;\n",
    "\t\tmargin: 3px;\n",
    "\t\tborder: 1px solid #CCC;\n",
    "\t}\n",
    "\t.tableizer-table th {\n",
    "\t\tbackground-color: #104E8B; \n",
    "\t\tcolor: #FFF;\n",
    "\t\tfont-weight: bold;\n",
    "\t}\n",
    "</style>\n",
    "<table class=\"tableizer-table\">\n",
    "<thead><tr class=\"tableizer-firstrow\"><th></th><th>&nbsp;</th><th>&nbsp;</th><th>&nbsp;</th><th>&nbsp;</th><th>&nbsp;</th><th>Agents</th><th>&nbsp;</th><th>&nbsp;</th><th>&nbsp;</th></tr></thead><tbody>\n",
    " <tr><td>Graphs</td><td>&nbsp;</td><td>&nbsp;</td><td>&nbsp;</td><td>&nbsp;</td><td>&nbsp;</td><td>x</td><td>y</td><td>&nbsp;</td><td>Net of all Agents</td></tr>\n",
    " <tr><td>A </td><td>→</td><td>B</td><td>→</td><td>C</td><td>&nbsp;</td><td> 1/7</td><td>&nbsp;</td><td>&nbsp;</td><td>0.071</td></tr>\n",
    " <tr><td>A </td><td>→</td><td>B</td><td>←</td><td>C</td><td>&nbsp;</td><td> 1/7</td><td>&nbsp;</td><td>&nbsp;</td><td>0.071</td></tr>\n",
    " <tr><td>A </td><td>→</td><td>B</td><td>↔</td><td>C</td><td>&nbsp;</td><td> 1/7</td><td>&nbsp;</td><td>&nbsp;</td><td>0.071</td></tr>\n",
    " <tr><td>A </td><td>→</td><td>B</td><td>&nbsp;</td><td>C</td><td>&nbsp;</td><td> 1/7</td><td>&nbsp;</td><td>&nbsp;</td><td>0.071</td></tr>\n",
    " <tr><td>A </td><td>←</td><td>B</td><td>→</td><td>C</td><td>&nbsp;</td><td>&nbsp;</td><td>&nbsp;</td><td>&nbsp;</td><td>0.000</td></tr>\n",
    " <tr><td>A </td><td>←</td><td>B</td><td>←</td><td>C</td><td>&nbsp;</td><td> 1/7</td><td>&nbsp;</td><td>&nbsp;</td><td>0.071</td></tr>\n",
    " <tr><td>A </td><td>←</td><td>B</td><td>↔</td><td>C</td><td>&nbsp;</td><td>&nbsp;</td><td>&nbsp;</td><td>&nbsp;</td><td>0.000</td></tr>\n",
    " <tr><td>A </td><td>←</td><td>B</td><td>&nbsp;</td><td>C</td><td>&nbsp;</td><td>&nbsp;</td><td>&nbsp;</td><td>&nbsp;</td><td>0.000</td></tr>\n",
    " <tr><td>A </td><td>↔</td><td>B</td><td>→</td><td>C</td><td>&nbsp;</td><td>&nbsp;</td><td>&nbsp;</td><td>&nbsp;</td><td>0.000</td></tr>\n",
    " <tr><td>A </td><td>↔</td><td>B</td><td>←</td><td>C</td><td>&nbsp;</td><td> 1/7</td><td>&nbsp;</td><td>&nbsp;</td><td>0.071</td></tr>\n",
    " <tr><td>A </td><td>↔</td><td>B</td><td>↔</td><td>C</td><td>&nbsp;</td><td>&nbsp;</td><td>&nbsp;</td><td>&nbsp;</td><td>0.000</td></tr>\n",
    " <tr><td>A </td><td>↔</td><td>B</td><td>&nbsp;</td><td>C</td><td>&nbsp;</td><td>&nbsp;</td><td>&nbsp;</td><td>&nbsp;</td><td>0.000</td></tr>\n",
    " <tr><td>A </td><td>&nbsp;</td><td>B</td><td>→</td><td>C</td><td>&nbsp;</td><td>&nbsp;</td><td>&nbsp;</td><td>&nbsp;</td><td>0.000</td></tr>\n",
    " <tr><td>A </td><td>&nbsp;</td><td>B</td><td>←</td><td>C</td><td>&nbsp;</td><td> 1/7</td><td>&nbsp;</td><td>&nbsp;</td><td>0.071</td></tr>\n",
    " <tr><td>A </td><td>&nbsp;</td><td>B</td><td>↔</td><td>C</td><td>&nbsp;</td><td>&nbsp;</td><td>&nbsp;</td><td>&nbsp;</td><td>0.000</td></tr>\n",
    " <tr><td>A </td><td>&nbsp;</td><td>B</td><td>&nbsp;</td><td>C</td><td>&nbsp;</td><td>&nbsp;</td><td>&nbsp;</td><td>&nbsp;</td><td>0.000</td></tr>\n",
    " <tr><td>&nbsp;</td><td>&nbsp;</td><td>&nbsp;</td><td>&nbsp;</td><td>&nbsp;</td><td>&nbsp;</td><td>&nbsp;</td><td>&nbsp;</td><td>&nbsp;</td><td>0.000</td></tr>\n",
    " <tr><td>A</td><td>→</td><td>B</td><td>&nbsp;</td><td>&nbsp;</td><td>&nbsp;</td><td>&nbsp;</td><td>&nbsp;</td><td>&nbsp;</td><td>0.000</td></tr>\n",
    " <tr><td>A</td><td>←</td><td>B</td><td>&nbsp;</td><td>&nbsp;</td><td>&nbsp;</td><td>&nbsp;</td><td>1    </td><td>&nbsp;</td><td>0.500</td></tr>\n",
    " <tr><td>A</td><td>↔</td><td>B</td><td>&nbsp;</td><td>&nbsp;</td><td>&nbsp;</td><td>&nbsp;</td><td>&nbsp;</td><td>&nbsp;</td><td>0.000</td></tr>\n",
    " <tr><td>A</td><td>&nbsp;</td><td>B</td><td>&nbsp;</td><td>&nbsp;</td><td>&nbsp;</td><td>&nbsp;</td><td>&nbsp;</td><td>&nbsp;</td><td>0.000</td></tr>\n",
    " <tr><td>&nbsp;</td><td>&nbsp;</td><td>&nbsp;</td><td>&nbsp;</td><td>&nbsp;</td><td>&nbsp;</td><td>&nbsp;</td><td>&nbsp;</td><td>&nbsp;</td><td>&nbsp;</td></tr>\n",
    " <tr><td>&nbsp;</td><td>&nbsp;</td><td>B</td><td>→</td><td>C</td><td>&nbsp;</td><td>&nbsp;</td><td>&nbsp;</td><td>&nbsp;</td><td>0.000</td></tr>\n",
    " <tr><td>&nbsp;</td><td>&nbsp;</td><td>B</td><td>←</td><td>C</td><td>&nbsp;</td><td>&nbsp;</td><td>&nbsp;</td><td>&nbsp;</td><td>0.000</td></tr>\n",
    " <tr><td>&nbsp;</td><td>&nbsp;</td><td>B</td><td>↔</td><td>C</td><td>&nbsp;</td><td>&nbsp;</td><td>&nbsp;</td><td>&nbsp;</td><td>0.000</td></tr>\n",
    " <tr><td>&nbsp;</td><td>&nbsp;</td><td>B</td><td>&nbsp;</td><td>C</td><td>&nbsp;</td><td>&nbsp;</td><td>&nbsp;</td><td>&nbsp;</td><td>0.000</td></tr>\n",
    " <tr><td>&nbsp;</td><td>&nbsp;</td><td>&nbsp;</td><td>&nbsp;</td><td>&nbsp;</td><td>&nbsp;</td><td>&nbsp;</td><td>&nbsp;</td><td>&nbsp;</td><td>&nbsp;</td></tr>\n",
    " <tr><td>A</td><td>&nbsp;</td><td>&nbsp;</td><td>&nbsp;</td><td>C</td><td>&nbsp;</td><td>&nbsp;</td><td>&nbsp;</td><td>&nbsp;</td><td>0.000</td></tr>\n",
    " <tr><td>&nbsp;</td><td>&nbsp;</td><td>&nbsp;</td><td>&nbsp;</td><td>&nbsp;</td><td>&nbsp;</td><td>&nbsp;</td><td>&nbsp;</td><td>&nbsp;</td><td>&nbsp;</td></tr>\n",
    " <tr><td>A</td><td>&nbsp;</td><td>&nbsp;</td><td>&nbsp;</td><td>&nbsp;</td><td>&nbsp;</td><td>&nbsp;</td><td>&nbsp;</td><td>&nbsp;</td><td>0.000</td></tr>\n",
    " <tr><td>&nbsp;</td><td>&nbsp;</td><td>B</td><td>&nbsp;</td><td>&nbsp;</td><td>&nbsp;</td><td>&nbsp;</td><td>&nbsp;</td><td>&nbsp;</td><td>0.000</td></tr>\n",
    " <tr><td>&nbsp;</td><td>&nbsp;</td><td>&nbsp;</td><td>&nbsp;</td><td>C</td><td>&nbsp;</td><td>&nbsp;</td><td>&nbsp;</td><td>&nbsp;</td><td>0.000</td></tr>\n",
    "</tbody></table>"
   ]
  },
  {
   "cell_type": "markdown",
   "metadata": {},
   "source": [
    "Below we plot the resulting probability distribution from Approach 1. Each marking on the x-axis is a different graph. The further you move down the x-axis the more arguments are removed from the graph. This means the <b>left-most</b> side contains the most nodes and the <b>right-most</b> side the argument graphs whic the least nodes/ single nodes"
   ]
  },
  {
   "cell_type": "code",
   "execution_count": 2,
   "metadata": {
    "collapsed": true
   },
   "outputs": [],
   "source": [
    "from numpy import inf\n",
    "from numpy import nan\n",
    "import math\n",
    "import itertools\n",
    "import ProbGraphGenerator as pg\n",
    "import numpy as np\n",
    "import pandas as pd\n",
    "import itertools\n",
    "\n",
    "posArgs = [0,1]\n",
    "negArgs = [2]\n",
    "allAgents = [([0, 1], [2], '+'), ([0], [2], '+')]"
   ]
  },
  {
   "cell_type": "code",
   "execution_count": 3,
   "metadata": {
    "collapsed": false
   },
   "outputs": [],
   "source": [
    "%%capture\n",
    "\n",
    "graphDistribs = [] # Not needed when we have the graphDistribsGlobal\n",
    "everyGraphProduced = np.unique(pg.generateGraphsGivenSetsOfArgs(posArgs, negArgs), axis=0)\n",
    "graphDistribsGlobal = []\n",
    "probDistribs = []\n",
    "argumentsInAgents = []\n",
    "polarities = []\n",
    "agentsStringified = []\n",
    "\n",
    "for agent in allAgents:\n",
    "    graphDistribsGlobalAgents = []\n",
    "    everyGraphProducedAgent = []\n",
    "    agPosArgs = agent[0]\n",
    "    agNegArgs = agent[1]\n",
    "    polarity = agent[2]\n",
    "    \n",
    "    argumentsInAgents.append([agPosArgs + agNegArgs])\n",
    "    polarities.append(polarity)\n",
    "    \n",
    "    agentsStringified.append(str(agent))\n",
    "    \n",
    "    # generate the plausible graphs for this agent\n",
    "    posArgsIdx = list(range(0,len(agPosArgs)))\n",
    "    negArgsIdx = list(range(len(agPosArgs), len(agPosArgs)+len(agNegArgs)))\n",
    "    x,y = pg.calculateProbabilityDistribution(posArgsIdx, negArgsIdx, polarity)\n",
    "    \n",
    "    # Generate an initial probability distribution for these graphs\n",
    "    initialProbDist = [1/len(x)] * len(x)\n",
    "    graphDistribs.append(x)\n",
    "    probDistribs.append(initialProbDist)\n",
    "    \n",
    "    # Convert the graphs into a global contribution, needed so that we can compare different agents of different sizes\n",
    "    noArgTypes = len(posArgs) + len(negArgs)\n",
    "    \n",
    "    \n",
    "    allAttacks = list(itertools.product(list(agPosArgs+agNegArgs), repeat=2))\n",
    "    allAttacksIdx = []\n",
    "    for attack in allAttacks:\n",
    "        ptn = ((attack[0]+1)*noArgTypes)- ((noArgTypes+1) - attack[1])+1\n",
    "        allAttacksIdx.append(ptn)\n",
    "    \n",
    "    for g in x:\n",
    "        #globalContribution = np.zeros(noArgTypes*noArgTypes)\n",
    "        globalContribution = np.full((noArgTypes*noArgTypes), np.inf)\n",
    "        globalContribution[allAttacksIdx] = g\n",
    "        graphDistribsGlobalAgents.append(globalContribution)\n",
    "    \n",
    "    graphDistribsGlobal.append(graphDistribsGlobalAgents)\n",
    "    \n",
    "    for g in y:\n",
    "        #globalContribution = np.zeros(noArgTypes*noArgTypes)\n",
    "        globalContribution = np.full((noArgTypes*noArgTypes), np.inf)\n",
    "        globalContribution[allAttacksIdx] = g\n",
    "    \n"
   ]
  },
  {
   "cell_type": "code",
   "execution_count": 4,
   "metadata": {
    "collapsed": false
   },
   "outputs": [],
   "source": [
    "%%capture\n",
    "allProbDistribs = np.zeros((len(everyGraphProduced),len(graphDistribsGlobal)))\n",
    "\n",
    "for agentIdx, agentGraphs in enumerate(graphDistribsGlobal):\n",
    "    \n",
    "    probDistrib = [0]*len(everyGraphProduced)\n",
    "    \n",
    "    for graph in agentGraphs:\n",
    "        i = (np.where((everyGraphProduced == graph).all(axis=1)))[0][0]\n",
    "        allProbDistribs[i,agentIdx] = 1\n",
    "\n"
   ]
  },
  {
   "cell_type": "code",
   "execution_count": 5,
   "metadata": {
    "collapsed": false
   },
   "outputs": [
    {
     "data": {
      "text/plain": [
       "[<matplotlib.lines.Line2D at 0x13160bf1828>]"
      ]
     },
     "execution_count": 5,
     "metadata": {},
     "output_type": "execute_result"
    },
    {
     "data": {
      "image/png": "[encoded data removed]",
      "text/plain": [
       "<matplotlib.figure.Figure at 0x13160246320>"
      ]
     },
     "metadata": {},
     "output_type": "display_data"
    }
   ],
   "source": [
    "\n",
    "sumallProbDistribs = allProbDistribs / (allProbDistribs != 0).sum(0)\n",
    "net = np.sum(sumallProbDistribs, axis=1) / len(allAgents)\n",
    "\n",
    "%matplotlib inline\n",
    "import matplotlib\n",
    "matplotlib.rcParams['backend'] = \"Qt4Agg\"\n",
    "import pylab\n",
    "import numpy as np\n",
    "\n",
    "x = range(0,len(net))  # 100 evenly-spaced values from 0 to 50\n",
    "\n",
    "pylab.plot(x, net)"
   ]
  },
  {
   "cell_type": "markdown",
   "metadata": {},
   "source": [
    "What can be seen here is that the agents are only distributing mass to those graphs that have exactly the same set of arguments \n",
    "the agent proposes."
   ]
  },
  {
   "cell_type": "markdown",
   "metadata": {},
   "source": [
    "<h3>Approach 2: Agent Can Enrich Graphs that have more Arguments than it Proposes</h3>\n",
    "\n",
    "In this approach we say that an agent can distribute mass into argument graphs that contain exactly the arguments proposed by the agent <b>and</b> into graphs that have the same set of nodes as it and more nodes.\n",
    "\n",
    "To illustrate this, if we continue with our previous example it means that agent <b>y</b> under this approach would be able to distribute mass to argument graphs which have nodes [a,b,c]. The table below shows the distribution of mass:\n"
   ]
  },
  {
   "cell_type": "markdown",
   "metadata": {},
   "source": [
    "<style type=\"text/css\">\n",
    "\ttable.tableizer-table {\n",
    "\t\tfont-size: 12px;\n",
    "\t\tborder: 1px solid #CCC; \n",
    "\t\tfont-family: Arial, Helvetica, sans-serif;\n",
    "\t} \n",
    "\t.tableizer-table td {\n",
    "\t\tpadding: 4px;\n",
    "\t\tmargin: 3px;\n",
    "\t\tborder: 1px solid #CCC;\n",
    "\t}\n",
    "\t.tableizer-table th {\n",
    "\t\tbackground-color: #104E8B; \n",
    "\t\tcolor: #FFF;\n",
    "\t\tfont-weight: bold;\n",
    "\t}\n",
    "</style>\n",
    "<table class=\"tableizer-table\">\n",
    "<thead><tr class=\"tableizer-firstrow\"><th></th><th>&nbsp;</th><th>&nbsp;</th><th>&nbsp;</th><th>&nbsp;</th><th>&nbsp;</th><th>Agents</th><th>&nbsp;</th><th>&nbsp;</th><th>&nbsp;</th></tr></thead><tbody>\n",
    " <tr><td>Graphs</td><td>&nbsp;</td><td>&nbsp;</td><td>&nbsp;</td><td>&nbsp;</td><td>&nbsp;</td><td>x</td><td>y</td><td>&nbsp;</td><td>Net of all Agents</td></tr>\n",
    " <tr><td>A </td><td>→</td><td>B</td><td>→</td><td>C</td><td>&nbsp;</td><td> 1/7</td><td> 1/5</td><td>&nbsp;</td><td>0.171</td></tr>\n",
    " <tr><td>A </td><td>→</td><td>B</td><td>←</td><td>C</td><td>&nbsp;</td><td> 1/7</td><td> 1/5</td><td>&nbsp;</td><td>0.171</td></tr>\n",
    " <tr><td>A </td><td>→</td><td>B</td><td>↔</td><td>C</td><td>&nbsp;</td><td> 1/7</td><td> 1/5</td><td>&nbsp;</td><td>0.171</td></tr>\n",
    " <tr><td>A </td><td>→</td><td>B</td><td>&nbsp;</td><td>C</td><td>&nbsp;</td><td> 1/7</td><td> 1/5</td><td>&nbsp;</td><td>0.171</td></tr>\n",
    " <tr><td>A </td><td>←</td><td>B</td><td>→</td><td>C</td><td>&nbsp;</td><td>&nbsp;</td><td>&nbsp;</td><td>&nbsp;</td><td>0.000</td></tr>\n",
    " <tr><td>A </td><td>←</td><td>B</td><td>←</td><td>C</td><td>&nbsp;</td><td> 1/7</td><td>&nbsp;</td><td>&nbsp;</td><td>0.071</td></tr>\n",
    " <tr><td>A </td><td>←</td><td>B</td><td>↔</td><td>C</td><td>&nbsp;</td><td>&nbsp;</td><td>&nbsp;</td><td>&nbsp;</td><td>0.000</td></tr>\n",
    " <tr><td>A </td><td>←</td><td>B</td><td>&nbsp;</td><td>C</td><td>&nbsp;</td><td>&nbsp;</td><td>&nbsp;</td><td>&nbsp;</td><td>0.000</td></tr>\n",
    " <tr><td>A </td><td>↔</td><td>B</td><td>→</td><td>C</td><td>&nbsp;</td><td>&nbsp;</td><td>&nbsp;</td><td>&nbsp;</td><td>0.000</td></tr>\n",
    " <tr><td>A </td><td>↔</td><td>B</td><td>←</td><td>C</td><td>&nbsp;</td><td> 1/7</td><td>&nbsp;</td><td>&nbsp;</td><td>0.071</td></tr>\n",
    " <tr><td>A </td><td>↔</td><td>B</td><td>↔</td><td>C</td><td>&nbsp;</td><td>&nbsp;</td><td>&nbsp;</td><td>&nbsp;</td><td>0.000</td></tr>\n",
    " <tr><td>A </td><td>↔</td><td>B</td><td>&nbsp;</td><td>C</td><td>&nbsp;</td><td>&nbsp;</td><td>&nbsp;</td><td>&nbsp;</td><td>0.000</td></tr>\n",
    " <tr><td>A </td><td>&nbsp;</td><td>B</td><td>→</td><td>C</td><td>&nbsp;</td><td>&nbsp;</td><td>&nbsp;</td><td>&nbsp;</td><td>0.000</td></tr>\n",
    " <tr><td>A </td><td>&nbsp;</td><td>B</td><td>←</td><td>C</td><td>&nbsp;</td><td> 1/7</td><td>&nbsp;</td><td>&nbsp;</td><td>0.071</td></tr>\n",
    " <tr><td>A </td><td>&nbsp;</td><td>B</td><td>↔</td><td>C</td><td>&nbsp;</td><td>&nbsp;</td><td>&nbsp;</td><td>&nbsp;</td><td>0.000</td></tr>\n",
    " <tr><td>A </td><td>&nbsp;</td><td>B</td><td>&nbsp;</td><td>C</td><td>&nbsp;</td><td>&nbsp;</td><td>&nbsp;</td><td>&nbsp;</td><td>0.000</td></tr>\n",
    " <tr><td>&nbsp;</td><td>&nbsp;</td><td>&nbsp;</td><td>&nbsp;</td><td>&nbsp;</td><td>&nbsp;</td><td>&nbsp;</td><td>&nbsp;</td><td>&nbsp;</td><td>&nbsp;</td></tr>\n",
    " <tr><td>A</td><td>→</td><td>B</td><td>&nbsp;</td><td>&nbsp;</td><td>&nbsp;</td><td>&nbsp;</td><td> 1/5</td><td>&nbsp;</td><td>0.100</td></tr>\n",
    " <tr><td>A</td><td>←</td><td>B</td><td>&nbsp;</td><td>&nbsp;</td><td>&nbsp;</td><td>&nbsp;</td><td>&nbsp;</td><td>&nbsp;</td><td>0.000</td></tr>\n",
    " <tr><td>A</td><td>↔</td><td>B</td><td>&nbsp;</td><td>&nbsp;</td><td>&nbsp;</td><td>&nbsp;</td><td>&nbsp;</td><td>&nbsp;</td><td>0.000</td></tr>\n",
    " <tr><td>A</td><td>&nbsp;</td><td>B</td><td>&nbsp;</td><td>&nbsp;</td><td>&nbsp;</td><td>&nbsp;</td><td>&nbsp;</td><td>&nbsp;</td><td>0.000</td></tr>\n",
    " <tr><td>&nbsp;</td><td>&nbsp;</td><td>&nbsp;</td><td>&nbsp;</td><td>&nbsp;</td><td>&nbsp;</td><td>&nbsp;</td><td>&nbsp;</td><td>&nbsp;</td><td>0.000</td></tr>\n",
    " <tr><td>&nbsp;</td><td>&nbsp;</td><td>B</td><td>→</td><td>C</td><td>&nbsp;</td><td>&nbsp;</td><td>&nbsp;</td><td>&nbsp;</td><td>&nbsp;</td></tr>\n",
    " <tr><td>&nbsp;</td><td>&nbsp;</td><td>B</td><td>←</td><td>C</td><td>&nbsp;</td><td>&nbsp;</td><td>&nbsp;</td><td>&nbsp;</td><td>0.000</td></tr>\n",
    " <tr><td>&nbsp;</td><td>&nbsp;</td><td>B</td><td>↔</td><td>C</td><td>&nbsp;</td><td>&nbsp;</td><td>&nbsp;</td><td>&nbsp;</td><td>0.000</td></tr>\n",
    " <tr><td>&nbsp;</td><td>&nbsp;</td><td>B</td><td>&nbsp;</td><td>C</td><td>&nbsp;</td><td>&nbsp;</td><td>&nbsp;</td><td>&nbsp;</td><td>0.000</td></tr>\n",
    " <tr><td>&nbsp;</td><td>&nbsp;</td><td>&nbsp;</td><td>&nbsp;</td><td>&nbsp;</td><td>&nbsp;</td><td>&nbsp;</td><td>&nbsp;</td><td>&nbsp;</td><td>&nbsp;</td></tr>\n",
    " <tr><td>A</td><td>&nbsp;</td><td>&nbsp;</td><td>&nbsp;</td><td>C</td><td>&nbsp;</td><td>&nbsp;</td><td>&nbsp;</td><td>&nbsp;</td><td>0.000</td></tr>\n",
    " <tr><td>&nbsp;</td><td>&nbsp;</td><td>&nbsp;</td><td>&nbsp;</td><td>&nbsp;</td><td>&nbsp;</td><td>&nbsp;</td><td>&nbsp;</td><td>&nbsp;</td><td>&nbsp;</td></tr>\n",
    " <tr><td>A</td><td>&nbsp;</td><td>&nbsp;</td><td>&nbsp;</td><td>&nbsp;</td><td>&nbsp;</td><td>&nbsp;</td><td>&nbsp;</td><td>&nbsp;</td><td>0.000</td></tr>\n",
    " <tr><td>&nbsp;</td><td>&nbsp;</td><td>B</td><td>&nbsp;</td><td>&nbsp;</td><td>&nbsp;</td><td>&nbsp;</td><td>&nbsp;</td><td>&nbsp;</td><td>0.000</td></tr>\n",
    " <tr><td>&nbsp;</td><td>&nbsp;</td><td>&nbsp;</td><td>&nbsp;</td><td>C</td><td>&nbsp;</td><td>&nbsp;</td><td>&nbsp;</td><td>&nbsp;</td><td>0.000</td></tr>\n",
    "</tbody></table>"
   ]
  },
  {
   "cell_type": "markdown",
   "metadata": {},
   "source": [
    "We can see that mass from agent <b>y</b> has now moved upwards into graphs containing more nodes. The graph below highlights the same. "
   ]
  },
  {
   "cell_type": "code",
   "execution_count": 6,
   "metadata": {
    "collapsed": true
   },
   "outputs": [],
   "source": [
    "def checkBiDirAttacks(graph):\n",
    "    \n",
    "    argsList = range(0,int((math.sqrt(len(graph)))))\n",
    "    dualLocations =  list(itertools.combinations(argsList, 2))\n",
    "    \n",
    "    for loc in dualLocations:\n",
    "\n",
    "        noOfArgs = int(math.sqrt(len(graph)))\n",
    "        pos = (loc[0] * noOfArgs) + loc[1]\n",
    "        counterPos = (loc[1] * noOfArgs) + loc[0]\n",
    "            \n",
    "        net = graph[pos] + graph[counterPos]\n",
    "        \n",
    "        if net == 2:\n",
    "            graph[pos] = 2\n",
    "            graph[counterPos] = 2\n",
    "        \n",
    "    \n",
    "    return graph"
   ]
  },
  {
   "cell_type": "code",
   "execution_count": 7,
   "metadata": {
    "collapsed": false
   },
   "outputs": [],
   "source": [
    "%%capture\n",
    "allProbDistribs2 = np.zeros((len(everyGraphProduced),len(graphDistribsGlobal)))\n",
    "\n",
    "pnts = range(0, int(math.sqrt(len(everyGraphProduced[0]))))\n",
    "dualLocations = list(itertools.combinations(pnts, 2))\n",
    "\n",
    "for agentIdx, agentGraphs in enumerate(graphDistribsGlobal):\n",
    "    \n",
    "    probDistrib = [0]*len(everyGraphProduced)\n",
    "    \n",
    "    print('changing agent-----*******')\n",
    "    \n",
    "    for graph in agentGraphs:\n",
    "\n",
    "        for everyIdx, g in enumerate(everyGraphProduced):\n",
    "            \n",
    "            ginfs = np.sum(g == inf)\n",
    "            agentinfs = np.sum(graph == inf)\n",
    "            \n",
    "            # If the agent is same than he can enrich\n",
    "            if agentinfs == ginfs:\n",
    "                i = (np.where((everyGraphProduced == graph).all(axis=1)))[0][0]\n",
    "                allProbDistribs2[i,agentIdx] = 1\n",
    "            \n",
    "            # If the agent is smaller than he can enrich\n",
    "            if agentinfs > ginfs:\n",
    "                \n",
    "                x = checkBiDirAttacks(np.copy(graph))\n",
    "                y = checkBiDirAttacks(np.copy(g))\n",
    "                \n",
    "                multiple = x * y\n",
    "                np.isnan(multiple)\n",
    "                multiple[np.isnan(multiple)] = inf\n",
    "                multiple[np.where(multiple==4)] = multiple[np.where(multiple==4)] / 2\n",
    "                \n",
    "                print(y)\n",
    "                print(graph)\n",
    "                print('-----------------')\n",
    "                enrich = np.array_equal(multiple, graph)\n",
    "                if enrich:\n",
    "                    print(enrich)\n",
    "                    allProbDistribs2[everyIdx,agentIdx] = 1\n",
    "                \n",
    "print(allProbDistribs2)                "
   ]
  },
  {
   "cell_type": "code",
   "execution_count": 8,
   "metadata": {
    "collapsed": false
   },
   "outputs": [
    {
     "data": {
      "image/png": "[encoded data removed]",
      "text/plain": [
       "<matplotlib.figure.Figure at 0x1315e0f0d30>"
      ]
     },
     "metadata": {},
     "output_type": "display_data"
    }
   ],
   "source": [
    "sumallProbDistribs2 = allProbDistribs2 / (allProbDistribs2 != 0).sum(0)\n",
    "net2 = np.sum(sumallProbDistribs2, axis=1) / len(allAgents)\n",
    "\n",
    "%matplotlib inline\n",
    "import matplotlib\n",
    "matplotlib.rcParams['backend'] = \"Qt4Agg\"\n",
    "import pylab\n",
    "import numpy as np\n",
    "\n",
    "x = range(0,len(net))  # 100 evenly-spaced values from 0 to 50\n",
    "\n",
    "\n",
    "pylab.plot(x, net2)\n",
    "pylab.show()"
   ]
  },
  {
   "cell_type": "markdown",
   "metadata": {},
   "source": [
    "We can see that because agent <b>y</b> has now shifted most of his mass to higher graphs the resulting distribution has most of its mass in the higher graphs too"
   ]
  },
  {
   "cell_type": "markdown",
   "metadata": {},
   "source": [
    "<h3>Approach 3: Agent Can Enrich Graphs that have fewer Arguments than it Proposes</h3>\n",
    "\n",
    "In this approach we say that an agent can distribute mass into argument graphs that contain exactly the arguments proposed by the agent <b>and</b> into graphs that have fewer nodes than it.\n",
    "\n",
    "To illustrate this, if we continue with our previous example it means that agent <b>x</b> under this approach would be able to distribute mass into all argument graphs and agent <b>y</b> into lower graphs as well. The table below shows the distribution of mass:\n",
    "\n"
   ]
  },
  {
   "cell_type": "markdown",
   "metadata": {},
   "source": [
    "<style type=\"text/css\">\n",
    "\ttable.tableizer-table {\n",
    "\t\tfont-size: 12px;\n",
    "\t\tborder: 1px solid #CCC; \n",
    "\t\tfont-family: Arial, Helvetica, sans-serif;\n",
    "\t} \n",
    "\t.tableizer-table td {\n",
    "\t\tpadding: 4px;\n",
    "\t\tmargin: 3px;\n",
    "\t\tborder: 1px solid #CCC;\n",
    "\t}\n",
    "\t.tableizer-table th {\n",
    "\t\tbackground-color: #104E8B; \n",
    "\t\tcolor: #FFF;\n",
    "\t\tfont-weight: bold;\n",
    "\t}\n",
    "</style>\n",
    "<table class=\"tableizer-table\">\n",
    "<thead><tr class=\"tableizer-firstrow\"><th></th><th>&nbsp;</th><th>&nbsp;</th><th>&nbsp;</th><th>&nbsp;</th><th>&nbsp;</th><th>Agents</th><th>&nbsp;</th><th>&nbsp;</th><th>&nbsp;</th></tr></thead><tbody>\n",
    " <tr><td>Graphs</td><td>&nbsp;</td><td>&nbsp;</td><td>&nbsp;</td><td>&nbsp;</td><td>&nbsp;</td><td>x</td><td>y</td><td>&nbsp;</td><td>Net of all Agents</td></tr>\n",
    " <tr><td>A </td><td>→</td><td>B</td><td>→</td><td>C</td><td>&nbsp;</td><td>   1/12 </td><td> 1/7</td><td>&nbsp;</td><td>0.113</td></tr>\n",
    " <tr><td>A </td><td>→</td><td>B</td><td>←</td><td>C</td><td>&nbsp;</td><td>   1/12 </td><td> 1/7</td><td>&nbsp;</td><td>0.113</td></tr>\n",
    " <tr><td>A </td><td>→</td><td>B</td><td>↔</td><td>C</td><td>&nbsp;</td><td>   1/12 </td><td> 1/7</td><td>&nbsp;</td><td>0.113</td></tr>\n",
    " <tr><td>A </td><td>→</td><td>B</td><td>&nbsp;</td><td>C</td><td>&nbsp;</td><td>   1/12 </td><td> 1/7</td><td>&nbsp;</td><td>0.113</td></tr>\n",
    " <tr><td>A </td><td>←</td><td>B</td><td>→</td><td>C</td><td>&nbsp;</td><td>&nbsp;</td><td>&nbsp;</td><td>&nbsp;</td><td>0.000</td></tr>\n",
    " <tr><td>A </td><td>←</td><td>B</td><td>←</td><td>C</td><td>&nbsp;</td><td>   1/12 </td><td>&nbsp;</td><td>&nbsp;</td><td>0.042</td></tr>\n",
    " <tr><td>A </td><td>←</td><td>B</td><td>↔</td><td>C</td><td>&nbsp;</td><td>&nbsp;</td><td>&nbsp;</td><td>&nbsp;</td><td>0.000</td></tr>\n",
    " <tr><td>A </td><td>←</td><td>B</td><td>&nbsp;</td><td>C</td><td>&nbsp;</td><td>&nbsp;</td><td>&nbsp;</td><td>&nbsp;</td><td>0.000</td></tr>\n",
    " <tr><td>A </td><td>↔</td><td>B</td><td>→</td><td>C</td><td>&nbsp;</td><td>&nbsp;</td><td>&nbsp;</td><td>&nbsp;</td><td>0.000</td></tr>\n",
    " <tr><td>A </td><td>↔</td><td>B</td><td>←</td><td>C</td><td>&nbsp;</td><td>   1/12 </td><td>&nbsp;</td><td>&nbsp;</td><td>0.042</td></tr>\n",
    " <tr><td>A </td><td>↔</td><td>B</td><td>↔</td><td>C</td><td>&nbsp;</td><td>&nbsp;</td><td>&nbsp;</td><td>&nbsp;</td><td>0.000</td></tr>\n",
    " <tr><td>A </td><td>↔</td><td>B</td><td>&nbsp;</td><td>C</td><td>&nbsp;</td><td>&nbsp;</td><td>&nbsp;</td><td>&nbsp;</td><td>0.000</td></tr>\n",
    " <tr><td>A </td><td>&nbsp;</td><td>B</td><td>→</td><td>C</td><td>&nbsp;</td><td>&nbsp;</td><td>&nbsp;</td><td>&nbsp;</td><td>0.000</td></tr>\n",
    " <tr><td>A </td><td>&nbsp;</td><td>B</td><td>←</td><td>C</td><td>&nbsp;</td><td>   1/12 </td><td>&nbsp;</td><td>&nbsp;</td><td>0.042</td></tr>\n",
    " <tr><td>A </td><td>&nbsp;</td><td>B</td><td>↔</td><td>C</td><td>&nbsp;</td><td>&nbsp;</td><td>&nbsp;</td><td>&nbsp;</td><td>0.000</td></tr>\n",
    " <tr><td>A </td><td>&nbsp;</td><td>B</td><td>&nbsp;</td><td>C</td><td>&nbsp;</td><td>&nbsp;</td><td>&nbsp;</td><td>&nbsp;</td><td>0.000</td></tr>\n",
    " <tr><td>&nbsp;</td><td>&nbsp;</td><td>&nbsp;</td><td>&nbsp;</td><td>&nbsp;</td><td>&nbsp;</td><td>&nbsp;</td><td>&nbsp;</td><td>&nbsp;</td><td>&nbsp;</td></tr>\n",
    " <tr><td>A</td><td>→</td><td>B</td><td>&nbsp;</td><td>&nbsp;</td><td>&nbsp;</td><td>   1/12 </td><td> 1/7</td><td>&nbsp;</td><td>0.113</td></tr>\n",
    " <tr><td>A</td><td>←</td><td>B</td><td>&nbsp;</td><td>&nbsp;</td><td>&nbsp;</td><td>&nbsp;</td><td>&nbsp;</td><td>&nbsp;</td><td>0.000</td></tr>\n",
    " <tr><td>A</td><td>↔</td><td>B</td><td>&nbsp;</td><td>&nbsp;</td><td>&nbsp;</td><td>&nbsp;</td><td>&nbsp;</td><td>&nbsp;</td><td>0.000</td></tr>\n",
    " <tr><td>A</td><td>&nbsp;</td><td>B</td><td>&nbsp;</td><td>&nbsp;</td><td>&nbsp;</td><td>&nbsp;</td><td>&nbsp;</td><td>&nbsp;</td><td>0.000</td></tr>\n",
    " <tr><td>&nbsp;</td><td>&nbsp;</td><td>&nbsp;</td><td>&nbsp;</td><td>&nbsp;</td><td>&nbsp;</td><td>&nbsp;</td><td>&nbsp;</td><td>&nbsp;</td><td>&nbsp;</td></tr>\n",
    " <tr><td>&nbsp;</td><td>&nbsp;</td><td>B</td><td>→</td><td>C</td><td>&nbsp;</td><td>&nbsp;</td><td>&nbsp;</td><td>&nbsp;</td><td>0.000</td></tr>\n",
    " <tr><td>&nbsp;</td><td>&nbsp;</td><td>B</td><td>←</td><td>C</td><td>&nbsp;</td><td>   1/12 </td><td>&nbsp;</td><td>&nbsp;</td><td>0.042</td></tr>\n",
    " <tr><td>&nbsp;</td><td>&nbsp;</td><td>B</td><td>↔</td><td>C</td><td>&nbsp;</td><td>&nbsp;</td><td>&nbsp;</td><td>&nbsp;</td><td>0.000</td></tr>\n",
    " <tr><td>&nbsp;</td><td>&nbsp;</td><td>B</td><td>&nbsp;</td><td>C</td><td>&nbsp;</td><td>&nbsp;</td><td>&nbsp;</td><td>&nbsp;</td><td>0.000</td></tr>\n",
    " <tr><td>&nbsp;</td><td>&nbsp;</td><td>&nbsp;</td><td>&nbsp;</td><td>&nbsp;</td><td>&nbsp;</td><td>&nbsp;</td><td>&nbsp;</td><td>&nbsp;</td><td>&nbsp;</td></tr>\n",
    " <tr><td>A</td><td>&nbsp;</td><td>&nbsp;</td><td>&nbsp;</td><td>C</td><td>&nbsp;</td><td>   1/12 </td><td>&nbsp;</td><td>&nbsp;</td><td>0.042</td></tr>\n",
    " <tr><td>&nbsp;</td><td>&nbsp;</td><td>&nbsp;</td><td>&nbsp;</td><td>&nbsp;</td><td>&nbsp;</td><td>&nbsp;</td><td>&nbsp;</td><td>&nbsp;</td><td>0.000</td></tr>\n",
    " <tr><td>A</td><td>&nbsp;</td><td>&nbsp;</td><td>&nbsp;</td><td>&nbsp;</td><td>&nbsp;</td><td>   1/12 </td><td> 1/7</td><td>&nbsp;</td><td>0.113</td></tr>\n",
    " <tr><td>&nbsp;</td><td>&nbsp;</td><td>B</td><td>&nbsp;</td><td>&nbsp;</td><td>&nbsp;</td><td>&nbsp;</td><td>&nbsp;</td><td>&nbsp;</td><td>0.000</td></tr>\n",
    " <tr><td>&nbsp;</td><td>&nbsp;</td><td>&nbsp;</td><td>&nbsp;</td><td>C</td><td>&nbsp;</td><td>   1/12 </td><td>&nbsp;</td><td>&nbsp;</td><td>0.042</td></tr>\n",
    "</tbody></table>"
   ]
  },
  {
   "cell_type": "markdown",
   "metadata": {},
   "source": [
    "We can see that now agents both agents are now contributing mass to more graphs in this example there is a tendency for mass to accumulate in smaller graphs. The graph below highlights this shift"
   ]
  },
  {
   "cell_type": "code",
   "execution_count": 9,
   "metadata": {
    "collapsed": false
   },
   "outputs": [],
   "source": [
    "%%capture\n",
    "allProbDistribs3 = np.zeros((len(everyGraphProduced),len(graphDistribsGlobal)))\n",
    "\n",
    "pnts = range(0, int(math.sqrt(len(everyGraphProduced[0]))))\n",
    "dualLocations = list(itertools.combinations(pnts, 2))\n",
    "\n",
    "for agentIdx, agentGraphs in enumerate(graphDistribsGlobal):\n",
    "    \n",
    "    probDistrib = [0]*len(everyGraphProduced)\n",
    "    \n",
    "    print('changing agent-----*******')\n",
    "    \n",
    "    for graph in agentGraphs:\n",
    "\n",
    "        for everyIdx, g in enumerate(everyGraphProduced):\n",
    "            \n",
    "            ginfs = np.sum(g == inf)\n",
    "            agentinfs = np.sum(graph == inf)\n",
    "            \n",
    "            # If the agent is same than he can enrich\n",
    "            if agentinfs == ginfs:\n",
    "                i = (np.where((everyGraphProduced == graph).all(axis=1)))[0][0]\n",
    "                allProbDistribs3[i,agentIdx] = 1\n",
    "            \n",
    "            # If the agent is larger than he can enrich\n",
    "            if agentinfs < ginfs:\n",
    "                \n",
    "                x = checkBiDirAttacks(np.copy(graph))\n",
    "                y = checkBiDirAttacks(np.copy(g))\n",
    "                \n",
    "                multiple = x * y\n",
    "                np.isnan(multiple)\n",
    "                multiple[np.isnan(multiple)] = inf\n",
    "                multiple[np.where(multiple==4)] = multiple[np.where(multiple==4)] / 2\n",
    "                \n",
    "                print(y)\n",
    "                print(graph)\n",
    "                print('-----------------')\n",
    "                enrich = np.array_equal(multiple, y)\n",
    "                polarityMatch = (polarities[agentIdx] == pg.getGraphPolarityMixedGraphSize(g, posArgs, negArgs))\n",
    "                if enrich and polarityMatch:\n",
    "                    print(enrich)\n",
    "                    allProbDistribs3[everyIdx,agentIdx] = 1\n",
    "                \n",
    "print(allProbDistribs3)     "
   ]
  },
  {
   "cell_type": "code",
   "execution_count": 10,
   "metadata": {
    "collapsed": false
   },
   "outputs": [
    {
     "data": {
      "image/png": "[encoded data removed]",
      "text/plain": [
       "<matplotlib.figure.Figure at 0x1316023e9b0>"
      ]
     },
     "metadata": {},
     "output_type": "display_data"
    }
   ],
   "source": [
    "sumallProbDistribs3 = allProbDistribs3 / (allProbDistribs3 != 0).sum(0)\n",
    "net3 = np.sum(sumallProbDistribs3, axis=1) /  len(allAgents)\n",
    "\n",
    "%matplotlib inline\n",
    "import matplotlib\n",
    "matplotlib.rcParams['backend'] = \"Qt4Agg\"\n",
    "import pylab\n",
    "import numpy as np\n",
    "\n",
    "\n",
    "x = range(0,len(net))  # 100 evenly-spaced values from 0 to 50\n",
    "\n",
    "\n",
    "pylab.plot(x, net3)\n",
    "pylab.show()"
   ]
  },
  {
   "cell_type": "markdown",
   "metadata": {},
   "source": [
    "<h3>Approach 4: Agent Can Enrich Graphs that have both fewer and more Arguments than it Proposes</h3>\n",
    "\n",
    "This approach is a combination of approach 2 and 3. The table below shows the resulting probability distribution."
   ]
  },
  {
   "cell_type": "markdown",
   "metadata": {},
   "source": [
    "<style type=\"text/css\">\n",
    "\ttable.tableizer-table {\n",
    "\t\tfont-size: 12px;\n",
    "\t\tborder: 1px solid #CCC; \n",
    "\t\tfont-family: Arial, Helvetica, sans-serif;\n",
    "\t} \n",
    "\t.tableizer-table td {\n",
    "\t\tpadding: 4px;\n",
    "\t\tmargin: 3px;\n",
    "\t\tborder: 1px solid #CCC;\n",
    "\t}\n",
    "\t.tableizer-table th {\n",
    "\t\tbackground-color: #104E8B; \n",
    "\t\tcolor: #FFF;\n",
    "\t\tfont-weight: bold;\n",
    "\t}\n",
    "</style>\n",
    "<table class=\"tableizer-table\">\n",
    "<thead><tr class=\"tableizer-firstrow\"><th></th><th>&nbsp;</th><th>&nbsp;</th><th>&nbsp;</th><th>&nbsp;</th><th>&nbsp;</th><th>Agents</th><th>&nbsp;</th><th>&nbsp;</th><th>&nbsp;</th></tr></thead><tbody>\n",
    " <tr><td>Graphs</td><td>&nbsp;</td><td>&nbsp;</td><td>&nbsp;</td><td>&nbsp;</td><td>&nbsp;</td><td>x</td><td>y</td><td>&nbsp;</td><td>Net of all Agents</td></tr>\n",
    " <tr><td>A </td><td>→</td><td>B</td><td>→</td><td>C</td><td>&nbsp;</td><td>   1/12 </td><td> 1/7</td><td>&nbsp;</td><td>0.113</td></tr>\n",
    " <tr><td>A </td><td>→</td><td>B</td><td>←</td><td>C</td><td>&nbsp;</td><td>   1/12 </td><td> 1/7</td><td>&nbsp;</td><td>0.113</td></tr>\n",
    " <tr><td>A </td><td>→</td><td>B</td><td>↔</td><td>C</td><td>&nbsp;</td><td>   1/12 </td><td> 1/7</td><td>&nbsp;</td><td>0.113</td></tr>\n",
    " <tr><td>A </td><td>→</td><td>B</td><td>&nbsp;</td><td>C</td><td>&nbsp;</td><td>   1/12 </td><td> 1/7</td><td>&nbsp;</td><td>0.113</td></tr>\n",
    " <tr><td>A </td><td>←</td><td>B</td><td>→</td><td>C</td><td>&nbsp;</td><td>&nbsp;</td><td>&nbsp;</td><td>&nbsp;</td><td>0.000</td></tr>\n",
    " <tr><td>A </td><td>←</td><td>B</td><td>←</td><td>C</td><td>&nbsp;</td><td>   1/12 </td><td>&nbsp;</td><td>&nbsp;</td><td>0.042</td></tr>\n",
    " <tr><td>A </td><td>←</td><td>B</td><td>↔</td><td>C</td><td>&nbsp;</td><td>&nbsp;</td><td>&nbsp;</td><td>&nbsp;</td><td>0.000</td></tr>\n",
    " <tr><td>A </td><td>←</td><td>B</td><td>&nbsp;</td><td>C</td><td>&nbsp;</td><td>&nbsp;</td><td>&nbsp;</td><td>&nbsp;</td><td>0.000</td></tr>\n",
    " <tr><td>A </td><td>↔</td><td>B</td><td>→</td><td>C</td><td>&nbsp;</td><td>&nbsp;</td><td>&nbsp;</td><td>&nbsp;</td><td>0.000</td></tr>\n",
    " <tr><td>A </td><td>↔</td><td>B</td><td>←</td><td>C</td><td>&nbsp;</td><td>   1/12 </td><td>&nbsp;</td><td>&nbsp;</td><td>0.042</td></tr>\n",
    " <tr><td>A </td><td>↔</td><td>B</td><td>↔</td><td>C</td><td>&nbsp;</td><td>&nbsp;</td><td>&nbsp;</td><td>&nbsp;</td><td>0.000</td></tr>\n",
    " <tr><td>A </td><td>↔</td><td>B</td><td>&nbsp;</td><td>C</td><td>&nbsp;</td><td>&nbsp;</td><td>&nbsp;</td><td>&nbsp;</td><td>0.000</td></tr>\n",
    " <tr><td>A </td><td>&nbsp;</td><td>B</td><td>→</td><td>C</td><td>&nbsp;</td><td>&nbsp;</td><td>&nbsp;</td><td>&nbsp;</td><td>0.000</td></tr>\n",
    " <tr><td>A </td><td>&nbsp;</td><td>B</td><td>←</td><td>C</td><td>&nbsp;</td><td>   1/12 </td><td>&nbsp;</td><td>&nbsp;</td><td>0.042</td></tr>\n",
    " <tr><td>A </td><td>&nbsp;</td><td>B</td><td>↔</td><td>C</td><td>&nbsp;</td><td>&nbsp;</td><td>&nbsp;</td><td>&nbsp;</td><td>0.000</td></tr>\n",
    " <tr><td>A </td><td>&nbsp;</td><td>B</td><td>&nbsp;</td><td>C</td><td>&nbsp;</td><td>&nbsp;</td><td>&nbsp;</td><td>&nbsp;</td><td>0.000</td></tr>\n",
    " <tr><td>&nbsp;</td><td>&nbsp;</td><td>&nbsp;</td><td>&nbsp;</td><td>&nbsp;</td><td>&nbsp;</td><td>&nbsp;</td><td>&nbsp;</td><td>&nbsp;</td><td>&nbsp;</td></tr>\n",
    " <tr><td>A</td><td>→</td><td>B</td><td>&nbsp;</td><td>&nbsp;</td><td>&nbsp;</td><td>   1/12 </td><td> 1/7</td><td>&nbsp;</td><td>0.113</td></tr>\n",
    " <tr><td>A</td><td>←</td><td>B</td><td>&nbsp;</td><td>&nbsp;</td><td>&nbsp;</td><td>&nbsp;</td><td>&nbsp;</td><td>&nbsp;</td><td>0.000</td></tr>\n",
    " <tr><td>A</td><td>↔</td><td>B</td><td>&nbsp;</td><td>&nbsp;</td><td>&nbsp;</td><td>&nbsp;</td><td>&nbsp;</td><td>&nbsp;</td><td>0.000</td></tr>\n",
    " <tr><td>A</td><td>&nbsp;</td><td>B</td><td>&nbsp;</td><td>&nbsp;</td><td>&nbsp;</td><td>&nbsp;</td><td>&nbsp;</td><td>&nbsp;</td><td>0.000</td></tr>\n",
    " <tr><td>&nbsp;</td><td>&nbsp;</td><td>&nbsp;</td><td>&nbsp;</td><td>&nbsp;</td><td>&nbsp;</td><td>&nbsp;</td><td>&nbsp;</td><td>&nbsp;</td><td>&nbsp;</td></tr>\n",
    " <tr><td>&nbsp;</td><td>&nbsp;</td><td>B</td><td>→</td><td>C</td><td>&nbsp;</td><td>&nbsp;</td><td>&nbsp;</td><td>&nbsp;</td><td>0.000</td></tr>\n",
    " <tr><td>&nbsp;</td><td>&nbsp;</td><td>B</td><td>←</td><td>C</td><td>&nbsp;</td><td>   1/12 </td><td>&nbsp;</td><td>&nbsp;</td><td>0.042</td></tr>\n",
    " <tr><td>&nbsp;</td><td>&nbsp;</td><td>B</td><td>↔</td><td>C</td><td>&nbsp;</td><td>&nbsp;</td><td>&nbsp;</td><td>&nbsp;</td><td>0.000</td></tr>\n",
    " <tr><td>&nbsp;</td><td>&nbsp;</td><td>B</td><td>&nbsp;</td><td>C</td><td>&nbsp;</td><td>&nbsp;</td><td>&nbsp;</td><td>&nbsp;</td><td>0.000</td></tr>\n",
    " <tr><td>&nbsp;</td><td>&nbsp;</td><td>&nbsp;</td><td>&nbsp;</td><td>&nbsp;</td><td>&nbsp;</td><td>&nbsp;</td><td>&nbsp;</td><td>&nbsp;</td><td>&nbsp;</td></tr>\n",
    " <tr><td>A</td><td>&nbsp;</td><td>&nbsp;</td><td>&nbsp;</td><td>C</td><td>&nbsp;</td><td>   1/12 </td><td>&nbsp;</td><td>&nbsp;</td><td>0.042</td></tr>\n",
    " <tr><td>&nbsp;</td><td>&nbsp;</td><td>&nbsp;</td><td>&nbsp;</td><td>&nbsp;</td><td>&nbsp;</td><td>&nbsp;</td><td>&nbsp;</td><td>&nbsp;</td><td>0.000</td></tr>\n",
    " <tr><td>A</td><td>&nbsp;</td><td>&nbsp;</td><td>&nbsp;</td><td>&nbsp;</td><td>&nbsp;</td><td>   1/12 </td><td> 1/7</td><td>&nbsp;</td><td>0.113</td></tr>\n",
    " <tr><td>&nbsp;</td><td>&nbsp;</td><td>B</td><td>&nbsp;</td><td>&nbsp;</td><td>&nbsp;</td><td>&nbsp;</td><td>&nbsp;</td><td>&nbsp;</td><td>0.000</td></tr>\n",
    " <tr><td>&nbsp;</td><td>&nbsp;</td><td>&nbsp;</td><td>&nbsp;</td><td>C</td><td>&nbsp;</td><td>   1/12 </td><td>&nbsp;</td><td>&nbsp;</td><td>0.042</td></tr>\n",
    "</tbody></table>"
   ]
  },
  {
   "cell_type": "markdown",
   "metadata": {},
   "source": [
    "The graph below shows clearly how this approach is a combination of approaches 2 and 3. The left portion of the graph resembles the left portion of approach 2 whilst the right portion the right portion of approach 3."
   ]
  },
  {
   "cell_type": "code",
   "execution_count": 11,
   "metadata": {
    "collapsed": false
   },
   "outputs": [],
   "source": [
    "%%capture\n",
    "allProbDistribs4 = np.zeros((len(everyGraphProduced),len(graphDistribsGlobal)))\n",
    "\n",
    "pnts = range(0, int(math.sqrt(len(everyGraphProduced[0]))))\n",
    "dualLocations = list(itertools.combinations(pnts, 2))\n",
    "\n",
    "for agentIdx, agentGraphs in enumerate(graphDistribsGlobal):\n",
    "    \n",
    "    probDistrib = [0]*len(everyGraphProduced)\n",
    "    \n",
    "    print('changing agent-----*******')\n",
    "    \n",
    "    for graph in agentGraphs:\n",
    "\n",
    "        for everyIdx, g in enumerate(everyGraphProduced):\n",
    "            \n",
    "            ginfs = np.sum(g == inf)\n",
    "            agentinfs = np.sum(graph == inf)\n",
    "            \n",
    "            # If the agent is same than he can enrich\n",
    "            if agentinfs == ginfs:\n",
    "                i = (np.where((everyGraphProduced == graph).all(axis=1)))[0][0]\n",
    "                allProbDistribs4[i,agentIdx] = 1\n",
    "            \n",
    "            # If the agent is smaller than he can enrich\n",
    "            if agentinfs > ginfs:\n",
    "                \n",
    "                x = checkBiDirAttacks(np.copy(graph))\n",
    "                y = checkBiDirAttacks(np.copy(g))\n",
    "                \n",
    "                multiple = x * y\n",
    "                np.isnan(multiple)\n",
    "                multiple[np.isnan(multiple)] = inf\n",
    "                multiple[np.where(multiple==4)] = multiple[np.where(multiple==4)] / 2\n",
    "                \n",
    "                print(y)\n",
    "                print(graph)\n",
    "                print('-----------------')\n",
    "                enrich = np.array_equal(multiple, graph)\n",
    "                if enrich:\n",
    "                    print(enrich)\n",
    "                    allProbDistribs4[everyIdx,agentIdx] = 1\n",
    "            \n",
    "            # If the agent is larger than he can enrich\n",
    "            if agentinfs < ginfs:\n",
    "                \n",
    "                x = checkBiDirAttacks(np.copy(graph))\n",
    "                y = checkBiDirAttacks(np.copy(g))\n",
    "                \n",
    "                multiple = x * y\n",
    "                np.isnan(multiple)\n",
    "                multiple[np.isnan(multiple)] = inf\n",
    "                multiple[np.where(multiple==4)] = multiple[np.where(multiple==4)] / 2\n",
    "                \n",
    "                print(y)\n",
    "                print(graph)\n",
    "                print('-----------------')\n",
    "                enrich = np.array_equal(multiple, y)\n",
    "                polarityMatch = (polarities[agentIdx] == pg.getGraphPolarityMixedGraphSize(g, posArgs, negArgs))\n",
    "                if enrich and polarityMatch:\n",
    "                    print(enrich)\n",
    "                    allProbDistribs4[everyIdx,agentIdx] = 1\n",
    "                \n",
    "print(allProbDistribs4)          "
   ]
  },
  {
   "cell_type": "code",
   "execution_count": 12,
   "metadata": {
    "collapsed": false
   },
   "outputs": [
    {
     "data": {
      "image/png": "[encoded data removed]",
      "text/plain": [
       "<matplotlib.figure.Figure at 0x13160f08550>"
      ]
     },
     "metadata": {},
     "output_type": "display_data"
    }
   ],
   "source": [
    "sumallProbDistribs4 = allProbDistribs4 / (allProbDistribs4 != 0).sum(0)\n",
    "net4 = np.sum(sumallProbDistribs4, axis=1) / len(allAgents)\n",
    "\n",
    "%matplotlib inline\n",
    "import matplotlib\n",
    "matplotlib.rcParams['backend'] = \"Qt4Agg\"\n",
    "import pylab\n",
    "import numpy as np\n",
    "\n",
    "\n",
    "x = range(0,len(net))  # 100 evenly-spaced values from 0 to 50\n",
    "\n",
    "\n",
    "pylab.plot(x, net4)\n",
    "pylab.show()"
   ]
  },
  {
   "cell_type": "markdown",
   "metadata": {},
   "source": [
    "<h3>Approach 5: Agent Enriches The Largest Graphs</h3>\n",
    "\n",
    "In this approach an agent places all of his mass to the largest graphs. So using our example we would see that agent <b>y</b> in this case would place all of his mass in graphs containing arguments [a,b,c]\n",
    "\n",
    "The table below shows the resulting distribution"
   ]
  },
  {
   "cell_type": "markdown",
   "metadata": {},
   "source": [
    "<style type=\"text/css\">\n",
    "\ttable.tableizer-table {\n",
    "\t\tfont-size: 12px;\n",
    "\t\tborder: 1px solid #CCC; \n",
    "\t\tfont-family: Arial, Helvetica, sans-serif;\n",
    "\t} \n",
    "\t.tableizer-table td {\n",
    "\t\tpadding: 4px;\n",
    "\t\tmargin: 3px;\n",
    "\t\tborder: 1px solid #CCC;\n",
    "\t}\n",
    "\t.tableizer-table th {\n",
    "\t\tbackground-color: #104E8B; \n",
    "\t\tcolor: #FFF;\n",
    "\t\tfont-weight: bold;\n",
    "\t}\n",
    "</style>\n",
    "<table class=\"tableizer-table\">\n",
    "<thead><tr class=\"tableizer-firstrow\"><th></th><th>&nbsp;</th><th>&nbsp;</th><th>&nbsp;</th><th>&nbsp;</th><th>&nbsp;</th><th>Agents</th><th>&nbsp;</th><th>&nbsp;</th><th>&nbsp;</th></tr></thead><tbody>\n",
    " <tr><td>Graphs</td><td>&nbsp;</td><td>&nbsp;</td><td>&nbsp;</td><td>&nbsp;</td><td>&nbsp;</td><td>x</td><td>y</td><td>&nbsp;</td><td>Net of all Agents</td></tr>\n",
    " <tr><td>A </td><td>→</td><td>B</td><td>→</td><td>C</td><td>&nbsp;</td><td> 1/7</td><td> 1/4</td><td>&nbsp;</td><td>0.196</td></tr>\n",
    " <tr><td>A </td><td>→</td><td>B</td><td>←</td><td>C</td><td>&nbsp;</td><td> 1/7</td><td> 1/4</td><td>&nbsp;</td><td>0.196</td></tr>\n",
    " <tr><td>A </td><td>→</td><td>B</td><td>↔</td><td>C</td><td>&nbsp;</td><td> 1/7</td><td> 1/4</td><td>&nbsp;</td><td>0.196</td></tr>\n",
    " <tr><td>A </td><td>→</td><td>B</td><td>&nbsp;</td><td>C</td><td>&nbsp;</td><td> 1/7</td><td> 1/4</td><td>&nbsp;</td><td>0.196</td></tr>\n",
    " <tr><td>A </td><td>←</td><td>B</td><td>→</td><td>C</td><td>&nbsp;</td><td>&nbsp;</td><td>&nbsp;</td><td>&nbsp;</td><td>0.000</td></tr>\n",
    " <tr><td>A </td><td>←</td><td>B</td><td>←</td><td>C</td><td>&nbsp;</td><td> 1/7</td><td>&nbsp;</td><td>&nbsp;</td><td>0.071</td></tr>\n",
    " <tr><td>A </td><td>←</td><td>B</td><td>↔</td><td>C</td><td>&nbsp;</td><td>&nbsp;</td><td>&nbsp;</td><td>&nbsp;</td><td>0.000</td></tr>\n",
    " <tr><td>A </td><td>←</td><td>B</td><td>&nbsp;</td><td>C</td><td>&nbsp;</td><td>&nbsp;</td><td>&nbsp;</td><td>&nbsp;</td><td>0.000</td></tr>\n",
    " <tr><td>A </td><td>↔</td><td>B</td><td>→</td><td>C</td><td>&nbsp;</td><td>&nbsp;</td><td>&nbsp;</td><td>&nbsp;</td><td>0.000</td></tr>\n",
    " <tr><td>A </td><td>↔</td><td>B</td><td>←</td><td>C</td><td>&nbsp;</td><td> 1/7</td><td>&nbsp;</td><td>&nbsp;</td><td>0.071</td></tr>\n",
    " <tr><td>A </td><td>↔</td><td>B</td><td>↔</td><td>C</td><td>&nbsp;</td><td>&nbsp;</td><td>&nbsp;</td><td>&nbsp;</td><td>0.000</td></tr>\n",
    " <tr><td>A </td><td>↔</td><td>B</td><td>&nbsp;</td><td>C</td><td>&nbsp;</td><td>&nbsp;</td><td>&nbsp;</td><td>&nbsp;</td><td>0.000</td></tr>\n",
    " <tr><td>A </td><td>&nbsp;</td><td>B</td><td>→</td><td>C</td><td>&nbsp;</td><td>&nbsp;</td><td>&nbsp;</td><td>&nbsp;</td><td>0.000</td></tr>\n",
    " <tr><td>A </td><td>&nbsp;</td><td>B</td><td>←</td><td>C</td><td>&nbsp;</td><td> 1/7</td><td>&nbsp;</td><td>&nbsp;</td><td>0.071</td></tr>\n",
    " <tr><td>A </td><td>&nbsp;</td><td>B</td><td>↔</td><td>C</td><td>&nbsp;</td><td>&nbsp;</td><td>&nbsp;</td><td>&nbsp;</td><td>0.000</td></tr>\n",
    " <tr><td>A </td><td>&nbsp;</td><td>B</td><td>&nbsp;</td><td>C</td><td>&nbsp;</td><td>&nbsp;</td><td>&nbsp;</td><td>&nbsp;</td><td>0.000</td></tr>\n",
    " <tr><td>&nbsp;</td><td>&nbsp;</td><td>&nbsp;</td><td>&nbsp;</td><td>&nbsp;</td><td>&nbsp;</td><td>&nbsp;</td><td>&nbsp;</td><td>&nbsp;</td><td>0.000</td></tr>\n",
    " <tr><td>A</td><td>→</td><td>B</td><td>&nbsp;</td><td>&nbsp;</td><td>&nbsp;</td><td>&nbsp;</td><td>&nbsp;</td><td>&nbsp;</td><td>0.000</td></tr>\n",
    " <tr><td>A</td><td>←</td><td>B</td><td>&nbsp;</td><td>&nbsp;</td><td>&nbsp;</td><td>&nbsp;</td><td>&nbsp;</td><td>&nbsp;</td><td>0.000</td></tr>\n",
    " <tr><td>A</td><td>↔</td><td>B</td><td>&nbsp;</td><td>&nbsp;</td><td>&nbsp;</td><td>&nbsp;</td><td>&nbsp;</td><td>&nbsp;</td><td>0.000</td></tr>\n",
    " <tr><td>A</td><td>&nbsp;</td><td>B</td><td>&nbsp;</td><td>&nbsp;</td><td>&nbsp;</td><td>&nbsp;</td><td>&nbsp;</td><td>&nbsp;</td><td>0.000</td></tr>\n",
    " <tr><td>&nbsp;</td><td>&nbsp;</td><td>&nbsp;</td><td>&nbsp;</td><td>&nbsp;</td><td>&nbsp;</td><td>&nbsp;</td><td>&nbsp;</td><td>&nbsp;</td><td>&nbsp;</td></tr>\n",
    " <tr><td>&nbsp;</td><td>&nbsp;</td><td>B</td><td>→</td><td>C</td><td>&nbsp;</td><td>&nbsp;</td><td>&nbsp;</td><td>&nbsp;</td><td>0.000</td></tr>\n",
    " <tr><td>&nbsp;</td><td>&nbsp;</td><td>B</td><td>←</td><td>C</td><td>&nbsp;</td><td>&nbsp;</td><td>&nbsp;</td><td>&nbsp;</td><td>0.000</td></tr>\n",
    " <tr><td>&nbsp;</td><td>&nbsp;</td><td>B</td><td>↔</td><td>C</td><td>&nbsp;</td><td>&nbsp;</td><td>&nbsp;</td><td>&nbsp;</td><td>0.000</td></tr>\n",
    " <tr><td>&nbsp;</td><td>&nbsp;</td><td>B</td><td>&nbsp;</td><td>C</td><td>&nbsp;</td><td>&nbsp;</td><td>&nbsp;</td><td>&nbsp;</td><td>0.000</td></tr>\n",
    " <tr><td>&nbsp;</td><td>&nbsp;</td><td>&nbsp;</td><td>&nbsp;</td><td>&nbsp;</td><td>&nbsp;</td><td>&nbsp;</td><td>&nbsp;</td><td>&nbsp;</td><td>&nbsp;</td></tr>\n",
    " <tr><td>A</td><td>&nbsp;</td><td>&nbsp;</td><td>&nbsp;</td><td>C</td><td>&nbsp;</td><td>&nbsp;</td><td>&nbsp;</td><td>&nbsp;</td><td>0.000</td></tr>\n",
    " <tr><td>&nbsp;</td><td>&nbsp;</td><td>&nbsp;</td><td>&nbsp;</td><td>&nbsp;</td><td>&nbsp;</td><td>&nbsp;</td><td>&nbsp;</td><td>&nbsp;</td><td>&nbsp;</td></tr>\n",
    " <tr><td>A</td><td>&nbsp;</td><td>&nbsp;</td><td>&nbsp;</td><td>&nbsp;</td><td>&nbsp;</td><td>&nbsp;</td><td>&nbsp;</td><td>&nbsp;</td><td>0.000</td></tr>\n",
    " <tr><td>&nbsp;</td><td>&nbsp;</td><td>B</td><td>&nbsp;</td><td>&nbsp;</td><td>&nbsp;</td><td>&nbsp;</td><td>&nbsp;</td><td>&nbsp;</td><td>0.000</td></tr>\n",
    " <tr><td>&nbsp;</td><td>&nbsp;</td><td>&nbsp;</td><td>&nbsp;</td><td>C</td><td>&nbsp;</td><td>&nbsp;</td><td>&nbsp;</td><td>&nbsp;</td><td>0.000</td></tr>\n",
    "</tbody></table>"
   ]
  },
  {
   "cell_type": "markdown",
   "metadata": {},
   "source": [
    "We can see that as a consequence of this the mass has all shifted to the larger graphs and more explicitly when a ⇾ b is present in those graphs the mass spikes as these are the graphs were agent <b>x</b> and agent <b>y</b> share in common. The graphs below illustrates this effect"
   ]
  },
  {
   "cell_type": "code",
   "execution_count": 13,
   "metadata": {
    "collapsed": false
   },
   "outputs": [],
   "source": [
    "%%capture\n",
    "allProbDistribs5 = np.zeros((len(everyGraphProduced),len(graphDistribsGlobal)))\n",
    "\n",
    "pnts = range(0, int(math.sqrt(len(everyGraphProduced[0]))))\n",
    "dualLocations = list(itertools.combinations(pnts, 2))\n",
    "\n",
    "for agentIdx, agentGraphs in enumerate(graphDistribsGlobal):\n",
    "    \n",
    "    probDistrib = [0]*len(everyGraphProduced)\n",
    "    \n",
    "    print('changing agent-----*******')\n",
    "    \n",
    "    for graph in agentGraphs:\n",
    "\n",
    "        for everyIdx, g in enumerate(everyGraphProduced):\n",
    "            \n",
    "            ginfs = np.sum(g == inf)\n",
    "            agentinfs = np.sum(graph == inf)\n",
    "            \n",
    "            # If the agent is smaller than he can enrich\n",
    "            # we will check to see if the graph comparing too is the largest graph\n",
    "            if ginfs == 0:\n",
    "                \n",
    "                x = checkBiDirAttacks(np.copy(graph))\n",
    "                y = checkBiDirAttacks(np.copy(g))\n",
    "                \n",
    "                multiple = x * y\n",
    "                np.isnan(multiple)\n",
    "                multiple[np.isnan(multiple)] = inf\n",
    "                multiple[np.where(multiple==4)] = multiple[np.where(multiple==4)] / 2\n",
    "                \n",
    "                print(y)\n",
    "                print(graph)\n",
    "                print('-----------------')\n",
    "                enrich = np.array_equal(multiple, graph)\n",
    "                if enrich:\n",
    "                    print(enrich)\n",
    "                    allProbDistribs5[everyIdx,agentIdx] = 1\n",
    "                \n",
    "print(allProbDistribs5)     "
   ]
  },
  {
   "cell_type": "code",
   "execution_count": 14,
   "metadata": {
    "collapsed": false
   },
   "outputs": [
    {
     "data": {
      "image/png": "[encoded data removed]",
      "text/plain": [
       "<matplotlib.figure.Figure at 0x1315dce7eb8>"
      ]
     },
     "metadata": {},
     "output_type": "display_data"
    }
   ],
   "source": [
    "sumallProbDistribs5 = allProbDistribs5 / (allProbDistribs5 != 0).sum(0)\n",
    "net5 = np.sum(sumallProbDistribs5, axis=1) / len(allAgents)\n",
    "\n",
    "%matplotlib inline\n",
    "import matplotlib\n",
    "matplotlib.rcParams['backend'] = \"Qt4Agg\"\n",
    "import pylab\n",
    "import numpy as np\n",
    "\n",
    "\n",
    "x = range(0,len(net))  # 100 evenly-spaced values from 0 to 50\n",
    "\n",
    "\n",
    "pylab.plot(x, net5)\n",
    "pylab.show()"
   ]
  },
  {
   "cell_type": "markdown",
   "metadata": {},
   "source": [
    "<center><h3>Comparison of Approaches</h3></center>\n",
    "\n",
    "So far we have introduced five approaches for producing a probability distribution for all subgraphs of a given set of arguments, with agents proposing a subset of these arguments and a preference to how grounded extensions of these graphs should be. Each approach differs in the way agents can distribute mass to the subgraphs. "
   ]
  },
  {
   "cell_type": "code",
   "execution_count": 26,
   "metadata": {
    "collapsed": false
   },
   "outputs": [
    {
     "data": {
      "image/png": "[encoded data removed]",
      "text/plain": [
       "<matplotlib.figure.Figure at 0x13160f76a90>"
      ]
     },
     "metadata": {},
     "output_type": "display_data"
    }
   ],
   "source": [
    "sumallProbDistribs = allProbDistribs / (allProbDistribs != 0).sum(0)\n",
    "sumallProbDistribs2 = allProbDistribs2 / (allProbDistribs2 != 0).sum(0)\n",
    "sumallProbDistribs3 = allProbDistribs3 / (allProbDistribs3 != 0).sum(0)\n",
    "sumallProbDistribs4 = allProbDistribs4 / (allProbDistribs4 != 0).sum(0)\n",
    "sumallProbDistribs5 = allProbDistribs5 / (allProbDistribs5 != 0).sum(0)\n",
    "\n",
    "net = np.sum(sumallProbDistribs, axis=1) / len(allAgents)\n",
    "net2 = np.sum(sumallProbDistribs2, axis=1) / len(allAgents)\n",
    "net3 = np.sum(sumallProbDistribs3, axis=1) /  len(allAgents)\n",
    "net4 = np.sum(sumallProbDistribs4, axis=1) / len(allAgents)\n",
    "net5 = np.sum(sumallProbDistribs5, axis=1) / len(allAgents)\n",
    "\n",
    "%matplotlib inline\n",
    "import matplotlib\n",
    "matplotlib.rcParams['backend'] = \"Qt4Agg\"\n",
    "import pylab\n",
    "import numpy as np\n",
    "\n",
    "\n",
    "x = range(0,len(net))  # 100 evenly-spaced values from 0 to 50\n",
    "\n",
    "\n",
    "pylab.plot(x, net, label='approach1')\n",
    "pylab.plot(x, net2, label='approach2')\n",
    "pylab.plot(x, net3, label='approach3')\n",
    "pylab.plot(x, net4, label='approach4')\n",
    "pylab.plot(x, net5, label='approach5')\n",
    "pylab.legend()\n",
    "pylab.show()"
   ]
  },
  {
   "cell_type": "markdown",
   "metadata": {},
   "source": [
    "Earlier we defined some desirable properties that we would expect of any aggregation approach. It was also found that all desirable properties described earlier on held for all approaches. \n",
    "\n",
    "# TODO - See if property 6 holds\n",
    "\n"
   ]
  },
  {
   "cell_type": "markdown",
   "metadata": {},
   "source": [
    "<center><h2 style=\"color:red;\">Using the Probability Distribution To Assign a Graph to a Query Agent</h2></center>\n",
    "\n",
    "The probability distributions produced by the 5 approaches in the previous section can be used for agents who do not provide a preference over the grounded extensions, i.e. agents who only propose arguments. We reffer to these agents as <b>query</b> agents as we view them as querying the probability distribution to see which graphs would likely suite them based on their proposed arguments. \n",
    "\n",
    "<center><h3>Desirable Properties</h3></center>\n",
    "\n",
    "Query agents can thus be of a few types:\n",
    "\n",
    "<ul>\n",
    "<li><b>Query Agent Type 1</b>: Those who propose more arguments than the agents used to construct the probability distribution, i.e. proposes new arguments</li>\n",
    "<li><b>Query Agent Type 2</b>: Those who propose a set arguments that have been proposed before. They do <b>not</b> propose fewer arguments to previous agents</li>\n",
    "<li><b>Query Agent Type 3</b>: Those who propose fewer arguments than the agents used to construct the probability distribution</li>\n",
    "</ul>\n",
    "\n",
    "We would say a desirable property of any approach used to return a graph to a query agent should always ensure to return a graph so long as mass is present there\n",
    "\n",
    "\n",
    "<center><h3>Approaches</h3></center>\n",
    "\n",
    "In the following we introduce three approaches a query agents can take to make use of the probability distributiion:"
   ]
  },
  {
   "cell_type": "markdown",
   "metadata": {},
   "source": [
    "<h3>Approach 1: The Grounded Extension of Any Graph Considered By Query Agent Should Contain All of the Arguments Proposed that It Contains</h3>\n",
    "\n",
    "In this approach we say when a query agent proposes a set of arguments then those <b>all</b> of those arguments should be in the grounded extension of any graph offered to the agent.\n",
    "\n",
    "If we continue our previous example and say that we now have a query agent <b>q</b> proposing argument C. In this case we see that the grounded extension of the graph should contain exactly C. The table below shows the grounded extensions of each of the subgraph from our example"
   ]
  },
  {
   "cell_type": "markdown",
   "metadata": {},
   "source": [
    "<style type=\"text/css\">\n",
    "\ttable.tableizer-table {\n",
    "\t\tfont-size: 12px;\n",
    "\t\tborder: 1px solid #CCC; \n",
    "\t\tfont-family: Arial, Helvetica, sans-serif;\n",
    "\t} \n",
    "\t.tableizer-table td {\n",
    "\t\tpadding: 4px;\n",
    "\t\tmargin: 3px;\n",
    "\t\tborder: 1px solid #CCC;\n",
    "\t}\n",
    "\t.tableizer-table th {\n",
    "\t\tbackground-color: #104E8B; \n",
    "\t\tcolor: #FFF;\n",
    "\t\tfont-weight: bold;\n",
    "\t}\n",
    "</style>\n",
    "<table class=\"tableizer-table\">\n",
    "<thead><tr class=\"tableizer-firstrow\"><th>No</th><th>Graphs</th><th>&nbsp;</th><th>&nbsp;</th><th>&nbsp;</th><th>&nbsp;</th><th>&nbsp;</th><th>Grounded Extension</th><th>Polarity</th></tr></thead><tbody>\n",
    " <tr><td>1</td><td>A </td><td>→</td><td>B</td><td>→</td><td>C</td><td>&nbsp;</td><td>A,C</td><td>Pos</td></tr>\n",
    " <tr><td>2</td><td>A </td><td>→</td><td>B</td><td>←</td><td>C</td><td>&nbsp;</td><td>A,C</td><td>Pos</td></tr>\n",
    " <tr><td>3</td><td>A </td><td>→</td><td>B</td><td>↔</td><td>C</td><td>&nbsp;</td><td>A,C</td><td>Pos</td></tr>\n",
    " <tr><td>4</td><td>A </td><td>→</td><td>B</td><td>&nbsp;</td><td>C</td><td>&nbsp;</td><td>A,C</td><td>Pos</td></tr>\n",
    " <tr><td>5</td><td>A </td><td>←</td><td>B</td><td>→</td><td>C</td><td>&nbsp;</td><td>B</td><td>Neg</td></tr>\n",
    " <tr><td>6</td><td>A </td><td>←</td><td>B</td><td>←</td><td>C</td><td>&nbsp;</td><td>A,C</td><td>Pos</td></tr>\n",
    " <tr><td>7</td><td>A </td><td>←</td><td>B</td><td>↔</td><td>C</td><td>&nbsp;</td><td>∅</td><td>Ntl</td></tr>\n",
    " <tr><td>8</td><td>A </td><td>←</td><td>B</td><td>&nbsp;</td><td>C</td><td>&nbsp;</td><td>B,C</td><td>Unknown</td></tr>\n",
    " <tr><td>9</td><td>A </td><td>↔</td><td>B</td><td>→</td><td>C</td><td>&nbsp;</td><td>∅</td><td>Ntl</td></tr>\n",
    " <tr><td>10</td><td>A </td><td>↔</td><td>B</td><td>←</td><td>C</td><td>&nbsp;</td><td>A,C</td><td>Pos</td></tr>\n",
    " <tr><td>11</td><td>A </td><td>↔</td><td>B</td><td>↔</td><td>C</td><td>&nbsp;</td><td>∅</td><td>Ntl</td></tr>\n",
    " <tr><td>12</td><td>A </td><td>↔</td><td>B</td><td>&nbsp;</td><td>C</td><td>&nbsp;</td><td>C</td><td>Pos</td></tr>\n",
    " <tr><td>13</td><td>A </td><td>&nbsp;</td><td>B</td><td>→</td><td>C</td><td>&nbsp;</td><td>A,B</td><td>Unknown</td></tr>\n",
    " <tr><td>14</td><td>A </td><td>&nbsp;</td><td>B</td><td>←</td><td>C</td><td>&nbsp;</td><td>A,C</td><td>Pos</td></tr>\n",
    " <tr><td>15</td><td>A </td><td>&nbsp;</td><td>B</td><td>↔</td><td>C</td><td>&nbsp;</td><td>A</td><td>Pos</td></tr>\n",
    " <tr><td>16</td><td>A </td><td>&nbsp;</td><td>B</td><td>&nbsp;</td><td>C</td><td>&nbsp;</td><td>A,B,C</td><td>Unknown</td></tr>\n",
    " <tr><td>&nbsp;</td><td>&nbsp;</td><td>&nbsp;</td><td>&nbsp;</td><td>&nbsp;</td><td>&nbsp;</td><td>&nbsp;</td><td>&nbsp;</td><td>&nbsp;</td></tr>\n",
    " <tr><td>17</td><td>A</td><td>→</td><td>B</td><td>&nbsp;</td><td>&nbsp;</td><td>&nbsp;</td><td>A</td><td>Pos</td></tr>\n",
    " <tr><td>18</td><td>A</td><td>←</td><td>B</td><td>&nbsp;</td><td>&nbsp;</td><td>&nbsp;</td><td>B</td><td>Neg</td></tr>\n",
    " <tr><td>19</td><td>A</td><td>↔</td><td>B</td><td>&nbsp;</td><td>&nbsp;</td><td>&nbsp;</td><td>∅</td><td>Ntl</td></tr>\n",
    " <tr><td>20</td><td>A</td><td>&nbsp;</td><td>B</td><td>&nbsp;</td><td>&nbsp;</td><td>&nbsp;</td><td>A,B</td><td>Unknown</td></tr>\n",
    " <tr><td>&nbsp;</td><td>&nbsp;</td><td>&nbsp;</td><td>&nbsp;</td><td>&nbsp;</td><td>&nbsp;</td><td>&nbsp;</td><td>&nbsp;</td><td>&nbsp;</td></tr>\n",
    " <tr><td>21</td><td>&nbsp;</td><td>&nbsp;</td><td>B</td><td>→</td><td>C</td><td>&nbsp;</td><td>B</td><td>Neg</td></tr>\n",
    " <tr><td>22</td><td>&nbsp;</td><td>&nbsp;</td><td>B</td><td>←</td><td>C</td><td>&nbsp;</td><td>C</td><td>Pos</td></tr>\n",
    " <tr><td>23</td><td>&nbsp;</td><td>&nbsp;</td><td>B</td><td>↔</td><td>C</td><td>&nbsp;</td><td>∅</td><td>Ntl</td></tr>\n",
    " <tr><td>24</td><td>&nbsp;</td><td>&nbsp;</td><td>B</td><td>&nbsp;</td><td>C</td><td>&nbsp;</td><td>B,C</td><td>Unknown</td></tr>\n",
    " <tr><td>&nbsp;</td><td>&nbsp;</td><td>&nbsp;</td><td>&nbsp;</td><td>&nbsp;</td><td>&nbsp;</td><td>&nbsp;</td><td>&nbsp;</td><td>&nbsp;</td></tr>\n",
    " <tr><td>25</td><td>A</td><td>&nbsp;</td><td>&nbsp;</td><td>&nbsp;</td><td>C</td><td>&nbsp;</td><td>A,C</td><td>Unknown</td></tr>\n",
    " <tr><td>&nbsp;</td><td>&nbsp;</td><td>&nbsp;</td><td>&nbsp;</td><td>&nbsp;</td><td>&nbsp;</td><td>&nbsp;</td><td>&nbsp;</td><td>&nbsp;</td></tr>\n",
    " <tr><td>26</td><td>A</td><td>&nbsp;</td><td>&nbsp;</td><td>&nbsp;</td><td>&nbsp;</td><td>&nbsp;</td><td>A</td><td>Pos</td></tr>\n",
    " <tr><td>27</td><td>&nbsp;</td><td>&nbsp;</td><td>B</td><td>&nbsp;</td><td>&nbsp;</td><td>&nbsp;</td><td>B</td><td>Neg</td></tr>\n",
    " <tr><td>28</td><td>&nbsp;</td><td>&nbsp;</td><td>&nbsp;</td><td>&nbsp;</td><td>C</td><td>&nbsp;</td><td>C</td><td>Pos</td></tr>\n",
    "</tbody></table>"
   ]
  },
  {
   "cell_type": "markdown",
   "metadata": {},
   "source": [
    "Continuing our previous example we would achieve the following polarity distributions using this approach with each of the five aggregation approaches. Under this approach agent <b>q</b> would be able to use probabilties from graphs 12, 22 and 28 as numbered in the table above. If we now see what probabilities would be retrieved from each of our 5 aggregation approaches we would find the probability of each polarity as follows"
   ]
  },
  {
   "cell_type": "code",
   "execution_count": 25,
   "metadata": {
    "collapsed": false
   },
   "outputs": [
    {
     "name": "stdout",
     "output_type": "stream",
     "text": [
      "[None, None, None, None, None, None, None, None, None, None, None, None, None, None, None, None, None, None, None, None, None, None, None, None, None, None, None, None]\n"
     ]
    }
   ],
   "source": [
    "%%capture\n",
    "groundedExtensionsEveryGraph = []\n",
    "print([groundedExtensionsEveryGraph.append(pg.getGroundedExtensionMixedGraphSize(thegraph, posArgs, negArgs)) for thegraph in everyGraphProduced])\n",
    "allEveryGraphPols = []\n",
    "for g in groundedExtensionsEveryGraph:\n",
    "    if (list(g) == []):\n",
    "        allEveryGraphPols.append('n')\n",
    "        continue\n",
    "    if (set(g) <= set(posArgs)):\n",
    "        allEveryGraphPols.append('+')\n",
    "        continue\n",
    "    if (set(g) <=set(negArgs)):\n",
    "        allEveryGraphPols.append('-')\n",
    "        continue\n",
    "    else:\n",
    "        allEveryGraphPols.append(' ')"
   ]
  },
  {
   "cell_type": "code",
   "execution_count": 17,
   "metadata": {
    "collapsed": false
   },
   "outputs": [],
   "source": [
    "%%capture\n",
    "d = pd.DataFrame(np.zeros((4, 5)))\n",
    "#d.set_index(['positiveChance','negativeChance', 'neutralChance', 'nothingChance'])\n",
    "d.index = ['positiveChance','negativeChance', 'neutralChance', 'unknownChance']\n",
    "d.columns = ['Apprch1','Apprch2', 'Apprch3', 'Apprch4', 'Apprch5']\n",
    "\n",
    "queryAgent = [1]\n",
    "\n",
    "groundedMatches = []\n",
    "\n",
    "for i, groundedExtensionsEveryGraphSingle in enumerate(groundedExtensionsEveryGraph):\n",
    "    \n",
    "    match = set(groundedExtensionsEveryGraphSingle) == set(queryAgent)\n",
    "    if match:\n",
    "        groundedMatches.append(i)\n",
    "        \n"
   ]
  },
  {
   "cell_type": "code",
   "execution_count": 18,
   "metadata": {
    "collapsed": false
   },
   "outputs": [
    {
     "data": {
      "text/html": [
       "<div>\n",
       "<style>\n",
       "    .dataframe thead tr:only-child th {\n",
       "        text-align: right;\n",
       "    }\n",
       "\n",
       "    .dataframe thead th {\n",
       "        text-align: left;\n",
       "    }\n",
       "\n",
       "    .dataframe tbody tr th {\n",
       "        vertical-align: top;\n",
       "    }\n",
       "</style>\n",
       "<table border=\"1\" class=\"dataframe\">\n",
       "  <thead>\n",
       "    <tr style=\"text-align: right;\">\n",
       "      <th></th>\n",
       "      <th>Apprch1</th>\n",
       "      <th>Apprch2</th>\n",
       "      <th>Apprch3</th>\n",
       "      <th>Apprch4</th>\n",
       "      <th>Apprch5</th>\n",
       "    </tr>\n",
       "  </thead>\n",
       "  <tbody>\n",
       "    <tr>\n",
       "      <th>positiveChance</th>\n",
       "      <td>0.0</td>\n",
       "      <td>0.0</td>\n",
       "      <td>0.083333</td>\n",
       "      <td>0.083333</td>\n",
       "      <td>0.0</td>\n",
       "    </tr>\n",
       "    <tr>\n",
       "      <th>negativeChance</th>\n",
       "      <td>0.0</td>\n",
       "      <td>0.0</td>\n",
       "      <td>0.000000</td>\n",
       "      <td>0.000000</td>\n",
       "      <td>0.0</td>\n",
       "    </tr>\n",
       "    <tr>\n",
       "      <th>neutralChance</th>\n",
       "      <td>0.0</td>\n",
       "      <td>0.0</td>\n",
       "      <td>0.000000</td>\n",
       "      <td>0.000000</td>\n",
       "      <td>0.0</td>\n",
       "    </tr>\n",
       "    <tr>\n",
       "      <th>unknownChance</th>\n",
       "      <td>0.0</td>\n",
       "      <td>0.0</td>\n",
       "      <td>0.000000</td>\n",
       "      <td>0.000000</td>\n",
       "      <td>0.0</td>\n",
       "    </tr>\n",
       "  </tbody>\n",
       "</table>\n",
       "</div>"
      ],
      "text/plain": [
       "                Apprch1  Apprch2   Apprch3   Apprch4  Apprch5\n",
       "positiveChance      0.0      0.0  0.083333  0.083333      0.0\n",
       "negativeChance      0.0      0.0  0.000000  0.000000      0.0\n",
       "neutralChance       0.0      0.0  0.000000  0.000000      0.0\n",
       "unknownChance       0.0      0.0  0.000000  0.000000      0.0"
      ]
     },
     "execution_count": 18,
     "metadata": {},
     "output_type": "execute_result"
    }
   ],
   "source": [
    "allnets = [net, net2, net3, net4, net5]\n",
    "\n",
    "for netNo, n in enumerate(allnets):\n",
    "    groundedMatchesProbs = [n[i] for i in groundedMatches]\n",
    "    groundedMatchesSigns = [allEveryGraphPols[i] for i in groundedMatches]\n",
    "    \n",
    "    positiveChance = 0\n",
    "    negativeChance = 0\n",
    "    neutralChance = 0\n",
    "    nothingChance = 0\n",
    "\n",
    "    for i, sign in enumerate(groundedMatchesSigns):\n",
    "        if sign == '+':\n",
    "            positiveChance += groundedMatchesProbs[i]\n",
    "            continue\n",
    "        if sign == '-':\n",
    "            negativeChance += groundedMatchesProbs[i]\n",
    "            continue\n",
    "        if sign == 'n':\n",
    "            neutralChance += groundedMatchesProbs[i]\n",
    "            continue\n",
    "        else:\n",
    "            nothingChance += groundedMatchesProbs[i]\n",
    "            continue\n",
    "            \n",
    "    d.iloc[:,netNo] = [positiveChance, negativeChance, neutralChance, nothingChance]\n",
    "\n",
    "d"
   ]
  },
  {
   "cell_type": "markdown",
   "metadata": {},
   "source": [
    "Under this approach we can see that, by accepting the constraint of only using graphs whose grounded extensions match the query agent's arguments, if we have n arguments then graphs with n-1 or n+1 arguments would not be used and so the approach forfeits probabilties that may exist in that part of the distribution"
   ]
  },
  {
   "cell_type": "markdown",
   "metadata": {
    "collapsed": true
   },
   "source": [
    "<h3>Approach 2: Exact or Higher Grounded Extension</h3>\n",
    "\n",
    "Under this approach we say a query agent would be able to utilise graphs whose grounded extensions have exactly the same arguments as itself and more arguments.\n",
    "\n",
    "For example query agent <b>q</b> would access graphs 1,2,3,4,6,8,10,12,14,16,22,24,25 and 28. Under each of the 5 aggregation approaches the following probabilities are retrieved\n"
   ]
  },
  {
   "cell_type": "code",
   "execution_count": 19,
   "metadata": {
    "collapsed": false
   },
   "outputs": [],
   "source": [
    "%%capture\n",
    "d = pd.DataFrame(np.zeros((4, 5)))\n",
    "#d.set_index(['positiveChance','negativeChance', 'neutralChance', 'nothingChance'])\n",
    "d.index = ['positiveChance','negativeChance', 'neutralChance', 'unknownChance']\n",
    "d.columns = ['Apprch1','Apprch2', 'Apprch3', 'Apprch4', 'Apprch5']\n",
    "\n",
    "queryAgent = [1]\n",
    "\n",
    "groundedMatches = []\n",
    "\n",
    "for i, groundedExtensionsEveryGraphSingle in enumerate(groundedExtensionsEveryGraph):\n",
    "    match = set(queryAgent) <= set(groundedExtensionsEveryGraphSingle)\n",
    "    print('q:', queryAgent, 'g:', groundedExtensionsEveryGraphSingle, ' ',match)\n",
    "    if match:\n",
    "        groundedMatches.append(i)\n",
    "        \n",
    "groundedMatches\n",
    "groundedMatchesProbs = [n[i] for i in groundedMatches]\n",
    "print(groundedMatchesProbs)"
   ]
  },
  {
   "cell_type": "code",
   "execution_count": 20,
   "metadata": {
    "collapsed": false
   },
   "outputs": [
    {
     "data": {
      "text/html": [
       "<div>\n",
       "<style>\n",
       "    .dataframe thead tr:only-child th {\n",
       "        text-align: right;\n",
       "    }\n",
       "\n",
       "    .dataframe thead th {\n",
       "        text-align: left;\n",
       "    }\n",
       "\n",
       "    .dataframe tbody tr th {\n",
       "        vertical-align: top;\n",
       "    }\n",
       "</style>\n",
       "<table border=\"1\" class=\"dataframe\">\n",
       "  <thead>\n",
       "    <tr style=\"text-align: right;\">\n",
       "      <th></th>\n",
       "      <th>Apprch1</th>\n",
       "      <th>Apprch2</th>\n",
       "      <th>Apprch3</th>\n",
       "      <th>Apprch4</th>\n",
       "      <th>Apprch5</th>\n",
       "    </tr>\n",
       "  </thead>\n",
       "  <tbody>\n",
       "    <tr>\n",
       "      <th>positiveChance</th>\n",
       "      <td>0.5</td>\n",
       "      <td>0.9</td>\n",
       "      <td>0.416667</td>\n",
       "      <td>0.75</td>\n",
       "      <td>1.0</td>\n",
       "    </tr>\n",
       "    <tr>\n",
       "      <th>negativeChance</th>\n",
       "      <td>0.0</td>\n",
       "      <td>0.0</td>\n",
       "      <td>0.000000</td>\n",
       "      <td>0.00</td>\n",
       "      <td>0.0</td>\n",
       "    </tr>\n",
       "    <tr>\n",
       "      <th>neutralChance</th>\n",
       "      <td>0.0</td>\n",
       "      <td>0.0</td>\n",
       "      <td>0.000000</td>\n",
       "      <td>0.00</td>\n",
       "      <td>0.0</td>\n",
       "    </tr>\n",
       "    <tr>\n",
       "      <th>unknownChance</th>\n",
       "      <td>0.0</td>\n",
       "      <td>0.0</td>\n",
       "      <td>0.000000</td>\n",
       "      <td>0.00</td>\n",
       "      <td>0.0</td>\n",
       "    </tr>\n",
       "  </tbody>\n",
       "</table>\n",
       "</div>"
      ],
      "text/plain": [
       "                Apprch1  Apprch2   Apprch3  Apprch4  Apprch5\n",
       "positiveChance      0.5      0.9  0.416667     0.75      1.0\n",
       "negativeChance      0.0      0.0  0.000000     0.00      0.0\n",
       "neutralChance       0.0      0.0  0.000000     0.00      0.0\n",
       "unknownChance       0.0      0.0  0.000000     0.00      0.0"
      ]
     },
     "execution_count": 20,
     "metadata": {},
     "output_type": "execute_result"
    }
   ],
   "source": [
    "allnets = [net, net2, net3, net4, net5]\n",
    "\n",
    "for netNo, n in enumerate(allnets):\n",
    "    groundedMatchesProbs = [n[i] for i in groundedMatches]\n",
    "    groundedMatchesSigns = [allEveryGraphPols[i] for i in groundedMatches]\n",
    "    \n",
    "    positiveChance = 0\n",
    "    negativeChance = 0\n",
    "    neutralChance = 0\n",
    "    nothingChance = 0\n",
    "\n",
    "    for i, sign in enumerate(groundedMatchesSigns):\n",
    "        if sign == '+':\n",
    "            positiveChance += groundedMatchesProbs[i]\n",
    "            continue\n",
    "        if sign == '-':\n",
    "            negativeChance += groundedMatchesProbs[i]\n",
    "            continue\n",
    "        if sign == 'n':\n",
    "            neutralChance += groundedMatchesProbs[i]\n",
    "            continue\n",
    "        else:\n",
    "            nothingChance += groundedMatchesProbs[i]\n",
    "            continue\n",
    "            \n",
    "    d.iloc[:,netNo] = [positiveChance, negativeChance, neutralChance, nothingChance]\n",
    "    \n",
    "d"
   ]
  },
  {
   "cell_type": "markdown",
   "metadata": {},
   "source": [
    "Under this approach we can see that by lifting the rigid constraint of approach 1 a query agent will be able to access graphs with n+1 graphs who possess all of the query agent's arguments. "
   ]
  },
  {
   "cell_type": "markdown",
   "metadata": {},
   "source": [
    "<h3>Approach 3: Exact or Lower Grounded Extension</h3>\n",
    "\n",
    "Under this approach we say a query agent would be able to utilise graphs whose grounded extensions are a subset of the arguments proposed by the query agent.\n",
    "\n",
    "For example query agent <b>q</b> would access graphs 12, 22 and 28. "
   ]
  },
  {
   "cell_type": "code",
   "execution_count": 21,
   "metadata": {
    "collapsed": true
   },
   "outputs": [],
   "source": [
    "d = pd.DataFrame(np.zeros((4, 5)))\n",
    "#d.set_index(['positiveChance','negativeChance', 'neutralChance', 'nothingChance'])\n",
    "d.index = ['positiveChance','negativeChance', 'neutralChance', 'unknownChance']\n",
    "d.columns = ['Apprch1','Apprch2', 'Apprch3', 'Apprch4', 'Apprch5']\n",
    "\n",
    "queryAgent = [1]\n",
    "\n",
    "groundedMatches = []\n",
    "\n",
    "for i, groundedExtensionsEveryGraphSingle in enumerate(groundedExtensionsEveryGraph):\n",
    "    \n",
    "    match = set(groundedExtensionsEveryGraphSingle) <= set(queryAgent)\n",
    "    if match:\n",
    "        groundedMatches.append(i)"
   ]
  },
  {
   "cell_type": "code",
   "execution_count": 22,
   "metadata": {
    "collapsed": false
   },
   "outputs": [
    {
     "data": {
      "text/html": [
       "<div>\n",
       "<style>\n",
       "    .dataframe thead tr:only-child th {\n",
       "        text-align: right;\n",
       "    }\n",
       "\n",
       "    .dataframe thead th {\n",
       "        text-align: left;\n",
       "    }\n",
       "\n",
       "    .dataframe tbody tr th {\n",
       "        vertical-align: top;\n",
       "    }\n",
       "</style>\n",
       "<table border=\"1\" class=\"dataframe\">\n",
       "  <thead>\n",
       "    <tr style=\"text-align: right;\">\n",
       "      <th></th>\n",
       "      <th>Apprch1</th>\n",
       "      <th>Apprch2</th>\n",
       "      <th>Apprch3</th>\n",
       "      <th>Apprch4</th>\n",
       "      <th>Apprch5</th>\n",
       "    </tr>\n",
       "  </thead>\n",
       "  <tbody>\n",
       "    <tr>\n",
       "      <th>positiveChance</th>\n",
       "      <td>0.0</td>\n",
       "      <td>0.0</td>\n",
       "      <td>0.083333</td>\n",
       "      <td>0.083333</td>\n",
       "      <td>0.0</td>\n",
       "    </tr>\n",
       "    <tr>\n",
       "      <th>negativeChance</th>\n",
       "      <td>0.0</td>\n",
       "      <td>0.0</td>\n",
       "      <td>0.000000</td>\n",
       "      <td>0.000000</td>\n",
       "      <td>0.0</td>\n",
       "    </tr>\n",
       "    <tr>\n",
       "      <th>neutralChance</th>\n",
       "      <td>0.0</td>\n",
       "      <td>0.0</td>\n",
       "      <td>0.000000</td>\n",
       "      <td>0.000000</td>\n",
       "      <td>0.0</td>\n",
       "    </tr>\n",
       "    <tr>\n",
       "      <th>unknownChance</th>\n",
       "      <td>0.0</td>\n",
       "      <td>0.0</td>\n",
       "      <td>0.000000</td>\n",
       "      <td>0.000000</td>\n",
       "      <td>0.0</td>\n",
       "    </tr>\n",
       "  </tbody>\n",
       "</table>\n",
       "</div>"
      ],
      "text/plain": [
       "                Apprch1  Apprch2   Apprch3   Apprch4  Apprch5\n",
       "positiveChance      0.0      0.0  0.083333  0.083333      0.0\n",
       "negativeChance      0.0      0.0  0.000000  0.000000      0.0\n",
       "neutralChance       0.0      0.0  0.000000  0.000000      0.0\n",
       "unknownChance       0.0      0.0  0.000000  0.000000      0.0"
      ]
     },
     "execution_count": 22,
     "metadata": {},
     "output_type": "execute_result"
    }
   ],
   "source": [
    "allnets = [net, net2, net3, net4, net5]\n",
    "\n",
    "for netNo, n in enumerate(allnets):\n",
    "    groundedMatchesProbs = [n[i] for i in groundedMatches]\n",
    "    groundedMatchesSigns = [allEveryGraphPols[i] for i in groundedMatches]\n",
    "    \n",
    "    positiveChance = 0\n",
    "    negativeChance = 0\n",
    "    neutralChance = 0\n",
    "    nothingChance = 0\n",
    "\n",
    "    for i, sign in enumerate(groundedMatchesSigns):\n",
    "        if sign == '+':\n",
    "            positiveChance += groundedMatchesProbs[i]\n",
    "            continue\n",
    "        if sign == '-':\n",
    "            negativeChance += groundedMatchesProbs[i]\n",
    "            continue\n",
    "        if sign == 'n':\n",
    "            neutralChance += groundedMatchesProbs[i]\n",
    "            continue\n",
    "        else:\n",
    "            nothingChance += groundedMatchesProbs[i]\n",
    "            continue\n",
    "            \n",
    "    d.iloc[:,netNo] = [positiveChance, negativeChance, neutralChance, nothingChance]\n",
    "d"
   ]
  },
  {
   "cell_type": "markdown",
   "metadata": {},
   "source": [
    "Under this approach we see that the gain achieved for the query agent is similar to the previous approach. In this approach an agent has access to n-1 graphs as well. "
   ]
  },
  {
   "cell_type": "markdown",
   "metadata": {},
   "source": [
    "<h3>Approach 4: Matching grounded extension</h3>\n",
    "\n",
    "\n",
    "Under this approach we say that an agent can access graphs whose grounded extension are such that they contain <b>at least</b> one argument that the query agent proposes\n",
    "\n",
    "\n",
    "For example query agent <b>q</b> would access graphs 1,2,3,4,6,8,10,12,14,16,22,24,25 and 28. Under each of the 5 aggregation approaches the following probabilities are retrieved"
   ]
  },
  {
   "cell_type": "code",
   "execution_count": 29,
   "metadata": {
    "collapsed": true
   },
   "outputs": [],
   "source": [
    "d = pd.DataFrame(np.zeros((4, 5)))\n",
    "#d.set_index(['positiveChance','negativeChance', 'neutralChance', 'nothingChance'])\n",
    "d.index = ['positiveChance','negativeChance', 'neutralChance', 'nothingChance']\n",
    "d.columns = ['Apprch1','Apprch2', 'Apprch3', 'Apprch4', 'Apprch5']\n",
    "\n",
    "queryAgent = [1]\n",
    "\n",
    "groundedMatches = []\n",
    "\n",
    "for i, groundedExtensionsEveryGraphSingle in enumerate(groundedExtensionsEveryGraph):\n",
    "    \n",
    "    match = set(groundedExtensionsEveryGraphSingle).intersection(queryAgent)\n",
    "    if match:\n",
    "        groundedMatches.append(i)\n",
    "        "
   ]
  },
  {
   "cell_type": "code",
   "execution_count": 30,
   "metadata": {
    "collapsed": false
   },
   "outputs": [
    {
     "data": {
      "text/html": [
       "<div>\n",
       "<style>\n",
       "    .dataframe thead tr:only-child th {\n",
       "        text-align: right;\n",
       "    }\n",
       "\n",
       "    .dataframe thead th {\n",
       "        text-align: left;\n",
       "    }\n",
       "\n",
       "    .dataframe tbody tr th {\n",
       "        vertical-align: top;\n",
       "    }\n",
       "</style>\n",
       "<table border=\"1\" class=\"dataframe\">\n",
       "  <thead>\n",
       "    <tr style=\"text-align: right;\">\n",
       "      <th></th>\n",
       "      <th>Apprch1</th>\n",
       "      <th>Apprch2</th>\n",
       "      <th>Apprch3</th>\n",
       "      <th>Apprch4</th>\n",
       "      <th>Apprch5</th>\n",
       "    </tr>\n",
       "  </thead>\n",
       "  <tbody>\n",
       "    <tr>\n",
       "      <th>positiveChance</th>\n",
       "      <td>0.5</td>\n",
       "      <td>0.9</td>\n",
       "      <td>0.416667</td>\n",
       "      <td>0.75</td>\n",
       "      <td>1.0</td>\n",
       "    </tr>\n",
       "    <tr>\n",
       "      <th>negativeChance</th>\n",
       "      <td>0.0</td>\n",
       "      <td>0.0</td>\n",
       "      <td>0.000000</td>\n",
       "      <td>0.00</td>\n",
       "      <td>0.0</td>\n",
       "    </tr>\n",
       "    <tr>\n",
       "      <th>neutralChance</th>\n",
       "      <td>0.0</td>\n",
       "      <td>0.0</td>\n",
       "      <td>0.000000</td>\n",
       "      <td>0.00</td>\n",
       "      <td>0.0</td>\n",
       "    </tr>\n",
       "    <tr>\n",
       "      <th>nothingChance</th>\n",
       "      <td>0.0</td>\n",
       "      <td>0.0</td>\n",
       "      <td>0.000000</td>\n",
       "      <td>0.00</td>\n",
       "      <td>0.0</td>\n",
       "    </tr>\n",
       "  </tbody>\n",
       "</table>\n",
       "</div>"
      ],
      "text/plain": [
       "                Apprch1  Apprch2   Apprch3  Apprch4  Apprch5\n",
       "positiveChance      0.5      0.9  0.416667     0.75      1.0\n",
       "negativeChance      0.0      0.0  0.000000     0.00      0.0\n",
       "neutralChance       0.0      0.0  0.000000     0.00      0.0\n",
       "nothingChance       0.0      0.0  0.000000     0.00      0.0"
      ]
     },
     "execution_count": 30,
     "metadata": {},
     "output_type": "execute_result"
    }
   ],
   "source": [
    "allnets = [net, net2, net3, net4, net5]\n",
    "\n",
    "for netNo, n in enumerate(allnets):\n",
    "    groundedMatchesProbs = [n[i] for i in groundedMatches]\n",
    "    groundedMatchesSigns = [allEveryGraphPols[i] for i in groundedMatches]\n",
    "    \n",
    "    positiveChance = 0\n",
    "    negativeChance = 0\n",
    "    neutralChance = 0\n",
    "    nothingChance = 0\n",
    "\n",
    "    for i, sign in enumerate(groundedMatchesSigns):\n",
    "        if sign == '+':\n",
    "            positiveChance += groundedMatchesProbs[i]\n",
    "            continue\n",
    "        if sign == '-':\n",
    "            negativeChance += groundedMatchesProbs[i]\n",
    "            continue\n",
    "        if sign == 'n':\n",
    "            neutralChance += groundedMatchesProbs[i]\n",
    "            continue\n",
    "        else:\n",
    "            nothingChance += groundedMatchesProbs[i]\n",
    "            continue\n",
    "            \n",
    "    d.iloc[:,netNo] = [positiveChance, negativeChance, neutralChance, nothingChance]\n",
    "d"
   ]
  },
  {
   "cell_type": "markdown",
   "metadata": {},
   "source": [
    "Under this approach we can see that an agent has access to all graphs in the distribution so long as the contain as the graph is such that it's grounded extension contains atleast one of the query agent's arguments."
   ]
  },
  {
   "cell_type": "markdown",
   "metadata": {},
   "source": [
    "<h3>Comparing Query Approaches</h3>\n",
    "Earlier we estbalished a desirable property of any query approach would be that it would always offer atleast one graph to a query agent if probability distribution permitted mass to be distributed to it.\n",
    "\n",
    "In the following table we see which combinations of aggregation approach and query approach uphold this property "
   ]
  },
  {
   "cell_type": "code",
   "execution_count": null,
   "metadata": {
    "collapsed": true
   },
   "outputs": [],
   "source": []
  },
  {
   "cell_type": "markdown",
   "metadata": {},
   "source": [
    "<img src=\"combsCompare.png\">"
   ]
  },
  {
   "cell_type": "markdown",
   "metadata": {},
   "source": [
    "What can be seen is the best Query approach to ensure that probabilistic graphs can be assigned to agents is under Query Approach 2"
   ]
  },
  {
   "cell_type": "code",
   "execution_count": null,
   "metadata": {
    "collapsed": true
   },
   "outputs": [],
   "source": []
  },
  {
   "cell_type": "markdown",
   "metadata": {},
   "source": [
    "<center><h2 style=\"color:red;\">Conclusion</h2></center>\n",
    "\n",
    "We proposed five approaches for generating a probability distribution accross arguments graphs for a known set of arguments given a collection of agents who provid a subset of these arguments and some indication as to how they expect the grounded extensions of each subgraph to be. \n",
    "\n",
    "We introduced 4 approaches to using a probability distribution acroos subgraphs when we have a query agent who does not specify an indication as to how the grounded extensions should be. We classified query agents into 3 types so that we could see whether an agent would receieve mass given a combination of aggregation approach and query approach"
   ]
  },
  {
   "cell_type": "code",
   "execution_count": null,
   "metadata": {
    "collapsed": true
   },
   "outputs": [],
   "source": []
  }
 ],
 "metadata": {
  "kernelspec": {
   "display_name": "Python 3",
   "language": "python",
   "name": "python3"
  },
  "language_info": {
   "codemirror_mode": {
    "name": "ipython",
    "version": 3
   },
   "file_extension": ".py",
   "mimetype": "text/x-python",
   "name": "python",
   "nbconvert_exporter": "python",
   "pygments_lexer": "ipython3",
   "version": "3.5.2"
  }
 },
 "nbformat": 4,
 "nbformat_minor": 0
}
